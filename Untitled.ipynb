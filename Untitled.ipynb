{
 "cells": [
  {
   "cell_type": "code",
   "execution_count": 7,
   "id": "436b3326",
   "metadata": {},
   "outputs": [],
   "source": [
    "import numpy as np\n",
    "\n",
    "def Jammer(n):\n",
    "    M = 5 #Jammer power level upper limit\n",
    "    P_J = np.random.randint(low=0,high=M,dtype = int) #choose a power level between 0 to 4 W and\n",
    "    #P_J = 10*math.log10(P_J_Watt) + 30  #convert P_J to dBm\n",
    "    seq = [0,1,2,3]\n",
    "    n = n+1\n",
    "    if n == len(seq):\n",
    "        n = 0\n",
    "    k_J = seq[n]\n",
    "    #print(n)\n",
    "    f_J = Fc + (k_J*deltaf)\n",
    "    return (P_J,k_J,n)\n"
   ]
  },
  {
   "cell_type": "code",
   "execution_count": 8,
   "id": "cc2c63d0",
   "metadata": {},
   "outputs": [
    {
     "name": "stdout",
     "output_type": "stream",
     "text": [
      "4 0\n",
      "3 1\n",
      "0 2\n",
      "3 3\n",
      "3 0\n",
      "3 1\n",
      "2 2\n",
      "1 3\n",
      "2 0\n",
      "3 1\n"
     ]
    }
   ],
   "source": [
    "deltaf = 10e6 #frequency step\n",
    "Fc = 900e6 #900MHz #base carrier frequency\n",
    "\n",
    "n = -1\n",
    "for i in range(2):\n",
    "    for j in range(5):\n",
    "        (P_J,k_J,n) = Jammer(n)\n",
    "        print(P_J,k_J)"
   ]
  },
  {
   "cell_type": "code",
   "execution_count": null,
   "id": "88dae3cb",
   "metadata": {},
   "outputs": [],
   "source": []
  }
 ],
 "metadata": {
  "kernelspec": {
   "display_name": "Python 3 (ipykernel)",
   "language": "python",
   "name": "python3"
  },
  "language_info": {
   "codemirror_mode": {
    "name": "ipython",
    "version": 3
   },
   "file_extension": ".py",
   "mimetype": "text/x-python",
   "name": "python",
   "nbconvert_exporter": "python",
   "pygments_lexer": "ipython3",
   "version": "3.9.12"
  }
 },
 "nbformat": 4,
 "nbformat_minor": 5
}
