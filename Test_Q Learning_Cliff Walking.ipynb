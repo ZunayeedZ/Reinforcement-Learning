{
 "cells": [
  {
   "cell_type": "code",
   "execution_count": 1,
   "id": "e4de5c70",
   "metadata": {},
   "outputs": [
    {
     "name": "stdout",
     "output_type": "stream",
     "text": [
      "Requirement already satisfied: gym in c:\\users\\zunayeed\\anaconda3\\lib\\site-packages (0.26.2)\n",
      "Requirement already satisfied: importlib-metadata>=4.8.0 in c:\\users\\zunayeed\\anaconda3\\lib\\site-packages (from gym) (4.11.3)\n",
      "Requirement already satisfied: gym-notices>=0.0.4 in c:\\users\\zunayeed\\anaconda3\\lib\\site-packages (from gym) (0.0.8)\n",
      "Requirement already satisfied: cloudpickle>=1.2.0 in c:\\users\\zunayeed\\anaconda3\\lib\\site-packages (from gym) (2.0.0)\n",
      "Requirement already satisfied: numpy>=1.18.0 in c:\\users\\zunayeed\\anaconda3\\lib\\site-packages (from gym) (1.21.5)\n",
      "Requirement already satisfied: zipp>=0.5 in c:\\users\\zunayeed\\anaconda3\\lib\\site-packages (from importlib-metadata>=4.8.0->gym) (3.7.0)\n",
      "Note: you may need to restart the kernel to use updated packages.\n"
     ]
    }
   ],
   "source": [
    "pip install gym"
   ]
  },
  {
   "cell_type": "code",
   "execution_count": 2,
   "id": "cba86602",
   "metadata": {},
   "outputs": [],
   "source": [
    "#Import dependencies\n",
    "import numpy as np\n",
    "import gym\n",
    "import random\n",
    "import time\n",
    "from IPython.display import clear_output"
   ]
  },
  {
   "cell_type": "code",
   "execution_count": 3,
   "id": "a0b80e45",
   "metadata": {},
   "outputs": [],
   "source": [
    "#env = gym.make(\"FrozenLake-v1\")\n",
    "env = gym.make('CliffWalking-v0')"
   ]
  },
  {
   "cell_type": "code",
   "execution_count": 4,
   "id": "14283f1c",
   "metadata": {},
   "outputs": [
    {
     "data": {
      "image/png": "[encoded data removed]",
      "text/plain": [
       "<IPython.core.display.Image object>"
      ]
     },
     "execution_count": 4,
     "metadata": {},
     "output_type": "execute_result"
    }
   ],
   "source": [
    "from IPython.display import Image\n",
    "Image(\"Cliff Walking.png\")"
   ]
  },
  {
   "cell_type": "markdown",
   "id": "1afab5fd",
   "metadata": {},
   "source": [
    "| State    | Description                    | Reward |\n",
    "|----------|:------------------------------:|-------:|\n",
    "|[3,0]   | Start at bottom-left           |        |\n",
    "|[3,11]  | Goal at bottom-right           |        |\n",
    "|[3,1..10] | Cliff at bottom-center         |    -100|\n",
    "\n",
    "%**States are denoted following numpy indexing starting with 0 and [row, column]**"
   ]
  },
  {
   "cell_type": "markdown",
   "id": "5ec4d2ba",
   "metadata": {},
   "source": [
    "**Action:  Left, Right, Up, Down**"
   ]
  },
  {
   "cell_type": "code",
   "execution_count": 5,
   "id": "7310e589",
   "metadata": {},
   "outputs": [
    {
     "name": "stdout",
     "output_type": "stream",
     "text": [
      "[[0. 0. 0. 0.]\n",
      " [0. 0. 0. 0.]\n",
      " [0. 0. 0. 0.]\n",
      " [0. 0. 0. 0.]\n",
      " [0. 0. 0. 0.]\n",
      " [0. 0. 0. 0.]\n",
      " [0. 0. 0. 0.]\n",
      " [0. 0. 0. 0.]\n",
      " [0. 0. 0. 0.]\n",
      " [0. 0. 0. 0.]\n",
      " [0. 0. 0. 0.]\n",
      " [0. 0. 0. 0.]\n",
      " [0. 0. 0. 0.]\n",
      " [0. 0. 0. 0.]\n",
      " [0. 0. 0. 0.]\n",
      " [0. 0. 0. 0.]\n",
      " [0. 0. 0. 0.]\n",
      " [0. 0. 0. 0.]\n",
      " [0. 0. 0. 0.]\n",
      " [0. 0. 0. 0.]\n",
      " [0. 0. 0. 0.]\n",
      " [0. 0. 0. 0.]\n",
      " [0. 0. 0. 0.]\n",
      " [0. 0. 0. 0.]\n",
      " [0. 0. 0. 0.]\n",
      " [0. 0. 0. 0.]\n",
      " [0. 0. 0. 0.]\n",
      " [0. 0. 0. 0.]\n",
      " [0. 0. 0. 0.]\n",
      " [0. 0. 0. 0.]\n",
      " [0. 0. 0. 0.]\n",
      " [0. 0. 0. 0.]\n",
      " [0. 0. 0. 0.]\n",
      " [0. 0. 0. 0.]\n",
      " [0. 0. 0. 0.]\n",
      " [0. 0. 0. 0.]\n",
      " [0. 0. 0. 0.]\n",
      " [0. 0. 0. 0.]\n",
      " [0. 0. 0. 0.]\n",
      " [0. 0. 0. 0.]\n",
      " [0. 0. 0. 0.]\n",
      " [0. 0. 0. 0.]\n",
      " [0. 0. 0. 0.]\n",
      " [0. 0. 0. 0.]\n",
      " [0. 0. 0. 0.]\n",
      " [0. 0. 0. 0.]\n",
      " [0. 0. 0. 0.]\n",
      " [0. 0. 0. 0.]]\n",
      "(48, 4)\n"
     ]
    }
   ],
   "source": [
    "action_space_size = env.action_space.n\n",
    "state_space_size = env.observation_space.n\n",
    "\n",
    "q_table = np.zeros((state_space_size, action_space_size))\n",
    "print(q_table)\n",
    "print(np.shape(q_table))"
   ]
  },
  {
   "cell_type": "code",
   "execution_count": 8,
   "id": "2b2f4715",
   "metadata": {},
   "outputs": [],
   "source": [
    "num_episodes = 10000 #total no. of episodes the agent will play during training\n",
    "max_steps_per_episode = 500 #one of the terminating condition, max no. steps in a single episode\n",
    "\n",
    "learning_rate = 0.1 #high LR focus more on new, less on old; low LR learn nothing, use prior knowledge\n",
    "discount_rate = 0.99 #high DR focus more on distant reward, low DR focus more on immediate reward\n",
    "\n",
    "#epsilon-greedy\n",
    "exploration_rate = 1\n",
    "max_exploration_rate = 1\n",
    "min_exploration_rate = 0.01\n",
    "exploration_decay_rate = 0.01"
   ]
  },
  {
   "cell_type": "markdown",
   "id": "7f578c2c",
   "metadata": {},
   "source": [
    "### Trainning Phase"
   ]
  },
  {
   "cell_type": "code",
   "execution_count": 9,
   "id": "b548d356",
   "metadata": {},
   "outputs": [
    {
     "name": "stdout",
     "output_type": "stream",
     "text": [
      "********Average reward per thousand episodes********\n",
      "\n",
      "1000 :  -201.0110000000025\n",
      "2000 :  -16.312999999999963\n",
      "3000 :  -15.641999999999927\n",
      "4000 :  -15.14799999999992\n",
      "5000 :  -16.64399999999997\n",
      "6000 :  -15.630999999999924\n",
      "7000 :  -15.945999999999932\n",
      "8000 :  -16.24899999999994\n",
      "9000 :  -16.09999999999993\n",
      "10000 :  -16.065999999999942\n"
     ]
    }
   ],
   "source": [
    "rewards_all_episodes = []\n",
    "# Q-learning algorithm\n",
    "for episode in range(num_episodes):\n",
    "    state = env.reset()[0] #reset state of the env back to the starting state\n",
    "    done = False #this makes sure whether or not the episode is finished, initialized to false\n",
    "    rewards_current_episode = 0 #no rewards at the beginning of each episode\n",
    "    # initialize new episode params for each time step\n",
    "\n",
    "    for step in range(max_steps_per_episode): \n",
    "        # Exploration-exploitation trade-off\n",
    "        exploration_rate_threshold = random.uniform(0, 1)\n",
    "        if exploration_rate_threshold > exploration_rate:\n",
    "            action = np.argmax(q_table[state,:]) \n",
    "        else:\n",
    "            action = env.action_space.sample()\n",
    "        # Take new action\n",
    "        new_state, reward, done, truncated, info = env.step(action)\n",
    "        # Update Q-table for Q(s,a)\n",
    "        q_table[state, action] = q_table[state, action] * (1 - learning_rate) + \\\n",
    "        learning_rate * (reward + discount_rate * np.max(q_table[new_state, :]))\n",
    "        # Transition to the next state\n",
    "        state = new_state\n",
    "        # Add new reward        \n",
    "        rewards_current_episode += reward\n",
    "        if done == True: \n",
    "            break\n",
    "    # Exploration rate decay (at the end of one episode, we need to update the exploration rate)\n",
    "    exploration_rate = min_exploration_rate + \\\n",
    "    (max_exploration_rate - min_exploration_rate) * np.exp(-exploration_decay_rate*episode)\n",
    "    # Add current episode reward to total rewards list\n",
    "    rewards_all_episodes.append(rewards_current_episode)\n",
    "\n",
    "# Calculate and print the average reward per thousand episodes\n",
    "rewards_per_thousand_episodes = np.split(np.array(rewards_all_episodes),num_episodes/1000)\n",
    "\n",
    "count = 1000\n",
    "print(\"********Average reward per thousand episodes********\\n\")\n",
    "for r in rewards_per_thousand_episodes:\n",
    "    print(count, \": \", str(sum(r/1000)))\n",
    "    count += 1000"
   ]
  },
  {
   "cell_type": "markdown",
   "id": "9e376ac4",
   "metadata": {},
   "source": [
    "### Analysis: "
   ]
  },
  {
   "cell_type": "markdown",
   "id": "bd917696",
   "metadata": {},
   "source": [
    "<span style=\"color:green;font-weight:700;font-size:15px\">\n",
    "    Now, for a different environment \"Cliff Walking\" with state space 48 (4*12), space size increased from 16 to 48, the average reward came out to be negative. So poorer performance for larger state space.\n",
    "</span>"
   ]
  },
  {
   "cell_type": "code",
   "execution_count": 10,
   "id": "9275cc09",
   "metadata": {},
   "outputs": [
    {
     "name": "stdout",
     "output_type": "stream",
     "text": [
      "\n",
      "\n",
      "********Q-table********\n",
      "\n",
      "[[ -11.00307445  -11.01204955  -11.08762692  -11.03884623]\n",
      " [ -10.60640039  -10.57571828  -10.63124494  -10.62852859]\n",
      " [ -10.02075601   -9.94164251  -10.05166072  -10.00116421]\n",
      " [  -9.25786498   -9.26425112   -9.34007158   -9.25621185]\n",
      " [  -8.55402492   -8.53854937   -8.55571415   -8.57666985]\n",
      " [  -7.79907233   -7.77527001   -7.78182659   -7.86320004]\n",
      " [  -7.00515393   -6.98654857   -6.99222328   -7.0441521 ]\n",
      " [  -6.21774376   -6.17908619   -6.21811286   -6.25645844]\n",
      " [  -5.45187886   -5.37245891   -5.39325273   -5.50252344]\n",
      " [  -4.61133036   -4.55816527   -4.57138185   -4.59598757]\n",
      " [  -3.7878534    -3.74935024   -3.75721433   -3.77844962]\n",
      " [  -2.97918377   -3.09643158   -2.93957231   -3.05767931]\n",
      " [ -11.4259208   -11.41829188  -11.38684574  -11.41734496]\n",
      " [ -10.94117094  -10.90623706  -10.92265827  -10.97100194]\n",
      " [ -10.18184962  -10.1874546   -10.19712329  -10.27944075]\n",
      " [  -9.44418393   -9.40144062   -9.39579757   -9.53099326]\n",
      " [  -8.58848064   -8.57804028   -8.57852683   -8.59994796]\n",
      " [  -7.76298564   -7.69233402   -7.69244317   -7.80809884]\n",
      " [  -6.79720939   -6.77889543   -6.77910593   -6.85286081]\n",
      " [  -5.90461102   -5.84612558   -5.84582323   -6.02916921]\n",
      " [  -4.98671877   -4.89881651   -4.89897718   -5.07663463]\n",
      " [  -4.13297922   -3.93967707   -3.93971799   -4.25129088]\n",
      " [  -3.26285834   -2.96990574   -2.96990976   -4.07638947]\n",
      " [  -3.0885896    -2.57893527   -1.98999992   -3.08780402]\n",
      " [ -12.02748601  -11.36151283  -13.10815191  -12.22173413]\n",
      " [ -11.57855535  -10.46617457 -112.05121021  -12.14846454]\n",
      " [ -10.76460619   -9.5617925  -111.76108598  -11.29539363]\n",
      " [  -9.96566711   -8.64827525 -112.00312456  -10.34341933]\n",
      " [  -9.36686937   -7.72553056 -112.07518772   -9.4985255 ]\n",
      " [  -8.50905648   -6.79346521 -111.86844487   -8.60481904]\n",
      " [  -7.63644318   -5.85198506 -111.8584422    -7.56972984]\n",
      " [  -6.73452603   -4.90099501 -111.96919132   -6.70848997]\n",
      " [  -5.79083794   -3.940399   -111.82823086   -5.80592033]\n",
      " [  -4.86668636   -2.9701     -111.93889306   -4.79767131]\n",
      " [  -3.9130364    -1.99       -111.89969924   -3.90152296]\n",
      " [  -2.96175516   -1.98469688   -1.           -2.95932655]\n",
      " [ -12.2478977  -112.08008176  -13.08599723  -13.07738404]\n",
      " [   0.            0.            0.            0.        ]\n",
      " [   0.            0.            0.            0.        ]\n",
      " [   0.            0.            0.            0.        ]\n",
      " [   0.            0.            0.            0.        ]\n",
      " [   0.            0.            0.            0.        ]\n",
      " [   0.            0.            0.            0.        ]\n",
      " [   0.            0.            0.            0.        ]\n",
      " [   0.            0.            0.            0.        ]\n",
      " [   0.            0.            0.            0.        ]\n",
      " [   0.            0.            0.            0.        ]\n",
      " [   0.            0.            0.            0.        ]]\n"
     ]
    }
   ],
   "source": [
    "# Print updated Q-table\n",
    "print(\"\\n\\n********Q-table********\\n\")\n",
    "print(q_table)"
   ]
  },
  {
   "cell_type": "markdown",
   "id": "def65004",
   "metadata": {},
   "source": [
    "### Agent playing the game"
   ]
  },
  {
   "cell_type": "code",
   "execution_count": 11,
   "id": "a504f157",
   "metadata": {},
   "outputs": [
    {
     "name": "stdout",
     "output_type": "stream",
     "text": [
      "****You fell through a hole!****\n"
     ]
    }
   ],
   "source": [
    "# Watch our agent play Frozen Lake by playing the best action \n",
    "# from each state according to the Q-table\n",
    "\n",
    "for episode in range(3):\n",
    "    # initialize new episode params\n",
    "    state = env.reset()[0]\n",
    "    done = False\n",
    "    print(\"*****EPISODE \", episode+1, \"*****\\n\\n\\n\\n\")\n",
    "    time.sleep(1)\n",
    "    for step in range(max_steps_per_episode):  \n",
    "        # Show current state of environment on screen\n",
    "        clear_output(wait=True)\n",
    "        env.render()\n",
    "        time.sleep(0.3)\n",
    "        # Choose action with highest Q-value for current state\n",
    "        action = np.argmax(q_table[state,:])        \n",
    "        # Take new action\n",
    "        new_state, reward, done, truncated, info = env.step(action)\n",
    "        if done:\n",
    "            clear_output(wait=True)\n",
    "            env.render()\n",
    "            if reward == 1:\n",
    "                # Agent reached the goal and won episode\n",
    "                print(\"****You reached the goal!****\")\n",
    "                time.sleep(3)\n",
    "            else:\n",
    "                # Agent stepped in a hole and lost episode\n",
    "                print(\"****You fell through a hole!****\")\n",
    "                time.sleep(3)\n",
    "            clear_output(wait=True)\n",
    "            break\n",
    "        # Set new state\n",
    "        state = new_state\n",
    "env.close()"
   ]
  },
  {
   "cell_type": "code",
   "execution_count": null,
   "id": "f58de854",
   "metadata": {},
   "outputs": [],
   "source": []
  }
 ],
 "metadata": {
  "kernelspec": {
   "display_name": "Python 3 (ipykernel)",
   "language": "python",
   "name": "python3"
  },
  "language_info": {
   "codemirror_mode": {
    "name": "ipython",
    "version": 3
   },
   "file_extension": ".py",
   "mimetype": "text/x-python",
   "name": "python",
   "nbconvert_exporter": "python",
   "pygments_lexer": "ipython3",
   "version": "3.9.12"
  }
 },
 "nbformat": 4,
 "nbformat_minor": 5
}
