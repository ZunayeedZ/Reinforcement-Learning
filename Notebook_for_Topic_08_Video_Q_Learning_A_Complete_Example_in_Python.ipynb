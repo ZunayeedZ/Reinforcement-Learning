{
 "cells": [
  {
   "cell_type": "markdown",
   "metadata": {
    "id": "Ybe8CY07zp7D"
   },
   "source": [
    "## Scenario - Robots in a Warehouse\n",
    "A growing e-commerce company is building a new warehouse, and the company would like all of the picking operations in the new warehouse to be performed by warehouse robots.\n",
    "* In the context of e-commerce warehousing, “picking” is the task of gathering individual items from various locations in the warehouse in order to fulfill customer orders.\n",
    "\n",
    "After picking items from the shelves, the robots must bring the items to a specific location within the warehouse where the items can be packaged for shipping.\n",
    "\n",
    "In order to ensure maximum efficiency and productivity, the robots will need to learn the shortest path between the item packaging area and all other locations within the warehouse where the robots are allowed to travel.\n",
    "* We will use Q-learning to accomplish this task!\n",
    "\n",
    "#### Import Required Libraries"
   ]
  },
  {
   "cell_type": "code",
   "execution_count": 1,
   "metadata": {
    "id": "rfdhGGMsw1H7"
   },
   "outputs": [],
   "source": [
    "#import libraries\n",
    "import numpy as np"
   ]
  },
  {
   "cell_type": "markdown",
   "metadata": {
    "id": "Kq-QPfDnx4Fo"
   },
   "source": [
    "## Define the Environment\n",
    "The environment consists of **states**, **actions**, and **rewards**. States and actions are inputs for the Q-learning AI agent, while the possible actions are the AI agent's outputs.\n",
    "#### States\n",
    "The states in the environment are all of the possible locations within the warehouse. Some of these locations are for storing items (**black squares**), while other locations are aisles that the robot can use to travel throughout the warehouse (**white squares**). The **green square** indicates the item packaging and shipping area.\n",
    "\n",
    "The black and green squares are **terminal states**!\n",
    "\n",
    "![warehouse map](https://www.danielsoper.com/teaching/img/08-warehouse-map.png)\n",
    "\n",
    "The AI agent's goal is to learn the shortest path between the item packaging area and all of the other locations in the warehouse where the robot is allowed to travel.\n",
    "\n",
    "As shown in the image above, there are 121 possible states (locations) within the warehouse. These states are arranged in a grid containing 11 rows and 11 columns. Each location can hence be identified by its row and column index."
   ]
  },
  {
   "cell_type": "code",
   "execution_count": 2,
   "metadata": {
    "id": "9AdpFVfy6ya9"
   },
   "outputs": [
    {
     "name": "stdout",
     "output_type": "stream",
     "text": [
      "[[[0. 0. 0. 0.]\n",
      "  [0. 0. 0. 0.]\n",
      "  [0. 0. 0. 0.]\n",
      "  [0. 0. 0. 0.]\n",
      "  [0. 0. 0. 0.]\n",
      "  [0. 0. 0. 0.]\n",
      "  [0. 0. 0. 0.]\n",
      "  [0. 0. 0. 0.]\n",
      "  [0. 0. 0. 0.]\n",
      "  [0. 0. 0. 0.]\n",
      "  [0. 0. 0. 0.]]\n",
      "\n",
      " [[0. 0. 0. 0.]\n",
      "  [0. 0. 0. 0.]\n",
      "  [0. 0. 0. 0.]\n",
      "  [0. 0. 0. 0.]\n",
      "  [0. 0. 0. 0.]\n",
      "  [0. 0. 0. 0.]\n",
      "  [0. 0. 0. 0.]\n",
      "  [0. 0. 0. 0.]\n",
      "  [0. 0. 0. 0.]\n",
      "  [0. 0. 0. 0.]\n",
      "  [0. 0. 0. 0.]]\n",
      "\n",
      " [[0. 0. 0. 0.]\n",
      "  [0. 0. 0. 0.]\n",
      "  [0. 0. 0. 0.]\n",
      "  [0. 0. 0. 0.]\n",
      "  [0. 0. 0. 0.]\n",
      "  [0. 0. 0. 0.]\n",
      "  [0. 0. 0. 0.]\n",
      "  [0. 0. 0. 0.]\n",
      "  [0. 0. 0. 0.]\n",
      "  [0. 0. 0. 0.]\n",
      "  [0. 0. 0. 0.]]\n",
      "\n",
      " [[0. 0. 0. 0.]\n",
      "  [0. 0. 0. 0.]\n",
      "  [0. 0. 0. 0.]\n",
      "  [0. 0. 0. 0.]\n",
      "  [0. 0. 0. 0.]\n",
      "  [0. 0. 0. 0.]\n",
      "  [0. 0. 0. 0.]\n",
      "  [0. 0. 0. 0.]\n",
      "  [0. 0. 0. 0.]\n",
      "  [0. 0. 0. 0.]\n",
      "  [0. 0. 0. 0.]]\n",
      "\n",
      " [[0. 0. 0. 0.]\n",
      "  [0. 0. 0. 0.]\n",
      "  [0. 0. 0. 0.]\n",
      "  [0. 0. 0. 0.]\n",
      "  [0. 0. 0. 0.]\n",
      "  [0. 0. 0. 0.]\n",
      "  [0. 0. 0. 0.]\n",
      "  [0. 0. 0. 0.]\n",
      "  [0. 0. 0. 0.]\n",
      "  [0. 0. 0. 0.]\n",
      "  [0. 0. 0. 0.]]\n",
      "\n",
      " [[0. 0. 0. 0.]\n",
      "  [0. 0. 0. 0.]\n",
      "  [0. 0. 0. 0.]\n",
      "  [0. 0. 0. 0.]\n",
      "  [0. 0. 0. 0.]\n",
      "  [0. 0. 0. 0.]\n",
      "  [0. 0. 0. 0.]\n",
      "  [0. 0. 0. 0.]\n",
      "  [0. 0. 0. 0.]\n",
      "  [0. 0. 0. 0.]\n",
      "  [0. 0. 0. 0.]]\n",
      "\n",
      " [[0. 0. 0. 0.]\n",
      "  [0. 0. 0. 0.]\n",
      "  [0. 0. 0. 0.]\n",
      "  [0. 0. 0. 0.]\n",
      "  [0. 0. 0. 0.]\n",
      "  [0. 0. 0. 0.]\n",
      "  [0. 0. 0. 0.]\n",
      "  [0. 0. 0. 0.]\n",
      "  [0. 0. 0. 0.]\n",
      "  [0. 0. 0. 0.]\n",
      "  [0. 0. 0. 0.]]\n",
      "\n",
      " [[0. 0. 0. 0.]\n",
      "  [0. 0. 0. 0.]\n",
      "  [0. 0. 0. 0.]\n",
      "  [0. 0. 0. 0.]\n",
      "  [0. 0. 0. 0.]\n",
      "  [0. 0. 0. 0.]\n",
      "  [0. 0. 0. 0.]\n",
      "  [0. 0. 0. 0.]\n",
      "  [0. 0. 0. 0.]\n",
      "  [0. 0. 0. 0.]\n",
      "  [0. 0. 0. 0.]]\n",
      "\n",
      " [[0. 0. 0. 0.]\n",
      "  [0. 0. 0. 0.]\n",
      "  [0. 0. 0. 0.]\n",
      "  [0. 0. 0. 0.]\n",
      "  [0. 0. 0. 0.]\n",
      "  [0. 0. 0. 0.]\n",
      "  [0. 0. 0. 0.]\n",
      "  [0. 0. 0. 0.]\n",
      "  [0. 0. 0. 0.]\n",
      "  [0. 0. 0. 0.]\n",
      "  [0. 0. 0. 0.]]\n",
      "\n",
      " [[0. 0. 0. 0.]\n",
      "  [0. 0. 0. 0.]\n",
      "  [0. 0. 0. 0.]\n",
      "  [0. 0. 0. 0.]\n",
      "  [0. 0. 0. 0.]\n",
      "  [0. 0. 0. 0.]\n",
      "  [0. 0. 0. 0.]\n",
      "  [0. 0. 0. 0.]\n",
      "  [0. 0. 0. 0.]\n",
      "  [0. 0. 0. 0.]\n",
      "  [0. 0. 0. 0.]]\n",
      "\n",
      " [[0. 0. 0. 0.]\n",
      "  [0. 0. 0. 0.]\n",
      "  [0. 0. 0. 0.]\n",
      "  [0. 0. 0. 0.]\n",
      "  [0. 0. 0. 0.]\n",
      "  [0. 0. 0. 0.]\n",
      "  [0. 0. 0. 0.]\n",
      "  [0. 0. 0. 0.]\n",
      "  [0. 0. 0. 0.]\n",
      "  [0. 0. 0. 0.]\n",
      "  [0. 0. 0. 0.]]] (11, 11, 4)\n"
     ]
    }
   ],
   "source": [
    "#define the shape of the environment (i.e., its states)\n",
    "environment_rows = 11\n",
    "environment_columns = 11\n",
    "\n",
    "#Create a 3D numpy array to hold the current Q-values for each state and action pair: Q(s, a)\n",
    "#The array contains 11 rows and 11 columns (to match the shape of the environment), as well as a third \"action\" dimension.\n",
    "#The \"action\" dimension consists of 4 layers that will allow us to keep track of the Q-values for each possible action in\n",
    "#each state (see next cell for a description of possible actions).\n",
    "#The value of each (state, action) pair is initialized to 0.\n",
    "q_values = np.zeros((environment_rows, environment_columns, 4)) \n",
    "print(q_values,np.shape(q_values))\n",
    "#environment_rows determines which row (0-10) of the possible states(locations) of the warehouse\n",
    "#environment_columns determines which row (0-10) of the possible states(locations) of the warehouse\n",
    "#4 which of the four actions 0=Up/1=Right/2=Down/3=Left is taken\n",
    "#So e.g. q_values(2,3,2) => Q-value obtained of being in row 2, column 3 of the warehouse and taking \"Down\" action\n",
    "#test = np.zeros((2,3,4))\n",
    "#print(test)\n",
    "#np.shape(test)"
   ]
  },
  {
   "cell_type": "markdown",
   "metadata": {
    "id": "07gGSNz07xtP"
   },
   "source": [
    "#### Actions\n",
    "The actions that are available to the AI agent are to move the robot in one of four directions:\n",
    "* Up\n",
    "* Right\n",
    "* Down\n",
    "* Left\n",
    "\n",
    "Obviously, the AI agent must learn to avoid driving into the item storage locations (e.g., shelves)!\n"
   ]
  },
  {
   "cell_type": "code",
   "execution_count": 3,
   "metadata": {
    "id": "z43QX_t080q3"
   },
   "outputs": [],
   "source": [
    "#define actions\n",
    "#numeric action codes: 0 = up, 1 = right, 2 = down, 3 = left\n",
    "actions = ['up', 'right', 'down', 'left']"
   ]
  },
  {
   "cell_type": "markdown",
   "metadata": {
    "id": "X25vn4VKw2as"
   },
   "source": [
    "#### Rewards\n",
    "The last component of the environment that we need to define are the **rewards**.\n",
    "\n",
    "To help the AI agent learn, each state (location) in the warehouse is assigned a reward value.\n",
    "\n",
    "The agent may begin at any white square, but its goal is always the same: ***to maximize its total rewards***!\n",
    "\n",
    "Negative rewards (i.e., **punishments**) are used for all states except the goal.\n",
    "* This encourages the AI to identify the *shortest path* to the goal by *minimizing its punishments*!\n",
    "\n",
    "![warehouse map](https://www.danielsoper.com/teaching/img/08-warehouse-map-rewards.png)\n",
    "\n",
    "To maximize its cumulative rewards (by minimizing its cumulative punishments), the AI agent will need find the shortest paths between the item packaging area (green square) and all of the other locations in the warehouse where the robot is allowed to travel (white squares). The agent will also need to learn to avoid crashing into any of the item storage locations (black squares)!"
   ]
  },
  {
   "cell_type": "code",
   "execution_count": 4,
   "metadata": {
    "id": "GIJu7XsLXw62"
   },
   "outputs": [
    {
     "name": "stdout",
     "output_type": "stream",
     "text": [
      "[-100. -100. -100. -100. -100.  100. -100. -100. -100. -100. -100.]\n",
      "[-100.   -1.   -1.   -1.   -1.   -1.   -1.   -1.   -1.   -1. -100.]\n",
      "[-100.   -1. -100. -100. -100. -100. -100.   -1. -100.   -1. -100.]\n",
      "[-100.   -1.   -1.   -1.   -1.   -1.   -1.   -1. -100.   -1. -100.]\n",
      "[-100. -100. -100.   -1. -100. -100. -100.   -1. -100. -100. -100.]\n",
      "[-1. -1. -1. -1. -1. -1. -1. -1. -1. -1. -1.]\n",
      "[-100. -100. -100. -100. -100.   -1. -100. -100. -100. -100. -100.]\n",
      "[-100.   -1.   -1.   -1.   -1.   -1.   -1.   -1.   -1.   -1. -100.]\n",
      "[-100. -100. -100.   -1. -100. -100. -100.   -1. -100. -100. -100.]\n",
      "[-1. -1. -1. -1. -1. -1. -1. -1. -1. -1. -1.]\n",
      "[-100. -100. -100. -100. -100. -100. -100. -100. -100. -100. -100.]\n"
     ]
    }
   ],
   "source": [
    "#Create a 2D numpy array to hold the rewards for each state.\n",
    "#The array contains 11 rows and 11 columns (to match the shape of the environment), and each value is initialized to -100.\n",
    "rewards = np.full((environment_rows, environment_columns), -100.) #np.full(shape,fill value)\n",
    "rewards[0, 5] = 100. #set the reward for the packaging area (i.e., the goal) to 100\n",
    "\n",
    "#define aisle locations (i.e., white squares) for rows 1 through 9\n",
    "aisles = {} #store locations in a dictionary\n",
    "aisles[1] = [i for i in range(1, 10)] #Row 1, Columns white : 1-9\n",
    "aisles[2] = [1, 7, 9] #Row 2, Columns white : 1,7,9\n",
    "aisles[3] = [i for i in range(1, 8)] #Row 3, Columns white : 1-7,9\n",
    "aisles[3].append(9)\n",
    "aisles[4] = [3, 7] #Row 4, Columns white : 3,7\n",
    "aisles[5] = [i for i in range(11)] #Row 5, Columns white : 0-10\n",
    "aisles[6] = [5] #Row 6, Columns white : 5\n",
    "aisles[7] = [i for i in range(1, 10)] #Row 7, Columns white : 1-9\n",
    "aisles[8] = [3, 7] #Row 8, Columns white : 3,7\n",
    "aisles[9] = [i for i in range(11)] #Row 9, Columns white : 0-10\n",
    "\n",
    "#set the rewards for all aisle locations (i.e., white squares)\n",
    "for row_index in range(1, 10):\n",
    "    for column_index in aisles[row_index]:\n",
    "        rewards[row_index, column_index] = -1.\n",
    "\n",
    "#print rewards matrix\n",
    "for row in rewards:\n",
    "    print(row)"
   ]
  },
  {
   "cell_type": "markdown",
   "metadata": {
    "id": "GFEor01iCCin"
   },
   "source": [
    "## Train the Model\n",
    "Our next task is for our AI agent to learn about its environment by implementing a Q-learning model. The learning process will follow these steps:\n",
    "1. Choose a random, non-terminal state (white square) for the agent to begin this new episode.\n",
    "2. Choose an action (move *up*, *right*, *down*, or *left*) for the current state. Actions will be chosen using an *epsilon greedy algorithm*. This algorithm will usually choose the most promising action for the AI agent, but it will occasionally choose a less promising option in order to encourage the agent to explore the environment.\n",
    "3. Perform the chosen action, and transition to the next state (i.e., move to the next location).\n",
    "4. Receive the reward for moving to the new state, and calculate the temporal difference.\n",
    "5. Update the Q-value for the previous state and action pair.\n",
    "6. If the new (current) state is a terminal state, go to #1. Else, go to #2.\n",
    "\n",
    "This entire process will be repeated across 1000 episodes. This will provide the AI agent sufficient opportunity to learn the shortest paths between the item packaging area and all other locations in the warehouse where the robot is allowed to travel, while simultaneously avoiding crashing into any of the item storage locations!\n",
    "\n",
    "#### Define Helper Functions"
   ]
  },
  {
   "cell_type": "code",
   "execution_count": 5,
   "metadata": {
    "id": "DnCfO5tVG0LJ"
   },
   "outputs": [],
   "source": [
    "#define a function that determines if the specified location is a terminal state\n",
    "def is_terminal_state(current_row_index, current_column_index):\n",
    "  #if the reward for this location is -1, then it is not a terminal state (i.e., it is a 'white square')\n",
    "  if rewards[current_row_index, current_column_index] == -1.:\n",
    "    return False\n",
    "  else:\n",
    "    return True\n",
    "\n",
    "#define a function that will choose a random, non-terminal starting location\n",
    "def get_starting_location():\n",
    "  #get a random row and column index\n",
    "    current_row_index = np.random.randint(environment_rows)\n",
    "    current_column_index = np.random.randint(environment_columns)\n",
    "  #continue choosing random row and column indexes until a non-terminal state is identified\n",
    "  #(i.e., until the chosen state is a 'white square').\n",
    "    while is_terminal_state(current_row_index, current_column_index):\n",
    "        current_row_index = np.random.randint(environment_rows)\n",
    "        current_column_index = np.random.randint(environment_columns)\n",
    "    return current_row_index, current_column_index\n",
    "\n",
    "#define an epsilon greedy algorithm that will choose which action to take next (i.e., where to move next)\n",
    "def get_next_action(current_row_index, current_column_index, epsilon):\n",
    "  #if a randomly chosen value between 0 and 1 is less than epsilon,\n",
    "  #then choose the most promising value from the Q-table for this state.\n",
    "    if np.random.random() < epsilon:\n",
    "        return np.argmax(q_values[current_row_index, current_column_index])\n",
    "    else: #choose a random action\n",
    "        return np.random.randint(4)\n",
    "\n",
    "#define a function that will get the next location based on the chosen action\n",
    "def get_next_location(current_row_index, current_column_index, action_index):\n",
    "    new_row_index = current_row_index\n",
    "    new_column_index = current_column_index\n",
    "    if actions[action_index] == 'up' and current_row_index > 0:\n",
    "        new_row_index -= 1\n",
    "    elif actions[action_index] == 'right' and current_column_index < environment_columns - 1:\n",
    "        new_column_index += 1\n",
    "    elif actions[action_index] == 'down' and current_row_index < environment_rows - 1:\n",
    "        new_row_index += 1\n",
    "    elif actions[action_index] == 'left' and current_column_index > 0:\n",
    "        new_column_index -= 1\n",
    "    return new_row_index, new_column_index\n",
    "\n",
    "#Define a function that will get the shortest path between any location within the warehouse that\n",
    "#the robot is allowed to travel and the item packaging location.\n",
    "def get_shortest_path(start_row_index, start_column_index):\n",
    "  #return immediately if this is an invalid starting location\n",
    "  if is_terminal_state(start_row_index, start_column_index):\n",
    "    return []\n",
    "  else: #if this is a 'legal' starting location\n",
    "    current_row_index, current_column_index = start_row_index, start_column_index\n",
    "    shortest_path = []\n",
    "    shortest_path.append([current_row_index, current_column_index])\n",
    "    #continue moving along the path until we reach the goal (i.e., the item packaging location)\n",
    "    while not is_terminal_state(current_row_index, current_column_index):\n",
    "      #get the best action to take\n",
    "      action_index = get_next_action(current_row_index, current_column_index, 1.)\n",
    "      #move to the next location on the path, and add the new location to the list\n",
    "      current_row_index, current_column_index = get_next_location(current_row_index, current_column_index, action_index)\n",
    "    shortest_path.append([current_row_index, current_column_index])\n",
    "    return shortest_path"
   ]
  },
  {
   "cell_type": "markdown",
   "metadata": {
    "id": "pjl9niKEqONs"
   },
   "source": [
    "#### Train the AI Agent using Q-Learning"
   ]
  },
  {
   "cell_type": "code",
   "execution_count": 6,
   "metadata": {
    "id": "3N5BB0m0JHIn"
   },
   "outputs": [
    {
     "name": "stdout",
     "output_type": "stream",
     "text": [
      "Training complete!\n"
     ]
    }
   ],
   "source": [
    "#define training parameters\n",
    "epsilon = 0.9 #the percentage of time when we should take the best action (instead of a random action)\n",
    "discount_factor = 0.9 #discount factor for future rewards\n",
    "learning_rate = 0.9 #the rate at which the AI agent should learn\n",
    "\n",
    "#run through 1000 training episodes\n",
    "for episode in range(1000):\n",
    "  #get the starting location for this episode\n",
    "    row_index, column_index = get_starting_location()\n",
    "\n",
    "  #continue taking actions (i.e., moving) until we reach a terminal state\n",
    "  #(i.e., until we reach the item packaging area or crash into an item storage location)\n",
    "    while not is_terminal_state(row_index, column_index):\n",
    "    #choose which action to take (i.e., where to move next)\n",
    "        action_index = get_next_action(row_index, column_index, epsilon)\n",
    "\n",
    "    #perform the chosen action, and transition to the next state (i.e., move to the next location)\n",
    "        old_row_index, old_column_index = row_index, column_index #store the old row and column indexes\n",
    "        row_index, column_index = get_next_location(row_index, column_index, action_index)\n",
    "\n",
    "    #receive the reward for moving to the new state, and calculate the temporal difference\n",
    "        reward = rewards[row_index, column_index]\n",
    "        old_q_value = q_values[old_row_index, old_column_index, action_index]\n",
    "        temporal_difference = reward + (discount_factor * np.max(q_values[row_index, column_index])) - old_q_value\n",
    "\n",
    "    #update the Q-value for the previous state and action pair\n",
    "        new_q_value = old_q_value + (learning_rate * temporal_difference)\n",
    "        q_values[old_row_index, old_column_index, action_index] = new_q_value\n",
    "\n",
    "print('Training complete!')"
   ]
  },
  {
   "cell_type": "code",
   "execution_count": 8,
   "metadata": {},
   "outputs": [
    {
     "name": "stdout",
     "output_type": "stream",
     "text": [
      "[[-100. -100. -100. -100. -100.  100. -100. -100. -100. -100. -100.]\n",
      " [-100.   -1.   -1.   -1.   -1.   -1.   -1.   -1.   -1.   -1. -100.]\n",
      " [-100.   -1. -100. -100. -100. -100. -100.   -1. -100.   -1. -100.]\n",
      " [-100.   -1.   -1.   -1.   -1.   -1.   -1.   -1. -100.   -1. -100.]\n",
      " [-100. -100. -100.   -1. -100. -100. -100.   -1. -100. -100. -100.]\n",
      " [  -1.   -1.   -1.   -1.   -1.   -1.   -1.   -1.   -1.   -1.   -1.]\n",
      " [-100. -100. -100. -100. -100.   -1. -100. -100. -100. -100. -100.]\n",
      " [-100.   -1.   -1.   -1.   -1.   -1.   -1.   -1.   -1.   -1. -100.]\n",
      " [-100. -100. -100.   -1. -100. -100. -100.   -1. -100. -100. -100.]\n",
      " [  -1.   -1.   -1.   -1.   -1.   -1.   -1.   -1.   -1.   -1.   -1.]\n",
      " [-100. -100. -100. -100. -100. -100. -100. -100. -100. -100. -100.]]\n"
     ]
    }
   ],
   "source": [
    "print(rewards)"
   ]
  },
  {
   "cell_type": "code",
   "execution_count": 8,
   "metadata": {},
   "outputs": [
    {
     "name": "stdout",
     "output_type": "stream",
     "text": [
      "[[[   0.            0.            0.            0.        ]\n",
      "  [   0.            0.            0.            0.        ]\n",
      "  [   0.            0.            0.            0.        ]\n",
      "  [   0.            0.            0.            0.        ]\n",
      "  [   0.            0.            0.            0.        ]\n",
      "  [   0.            0.            0.            0.        ]\n",
      "  [   0.            0.            0.            0.        ]\n",
      "  [   0.            0.            0.            0.        ]\n",
      "  [   0.            0.            0.            0.        ]\n",
      "  [   0.            0.            0.            0.        ]\n",
      "  [   0.            0.            0.            0.        ]]\n",
      "\n",
      " [[   0.            0.            0.            0.        ]\n",
      "  [ -99.9          62.171        48.40744861  -99.        ]\n",
      "  [ -90.           70.19        -99.           54.89485959]\n",
      "  [ -90.           79.1         -90.           55.9539    ]\n",
      "  [ -99.9999       89.          -99.99         70.11981   ]\n",
      "  [ 100.           79.1        -100.           79.1       ]\n",
      "  [-100.           70.19       -100.           89.        ]\n",
      "  [ -99.9999       62.17099999   62.17099994   79.1       ]\n",
      "  [ -99.           54.89648091  -99.9          70.19      ]\n",
      "  [ -99.9         -99.           -3.18251215   62.171     ]\n",
      "  [   0.            0.            0.            0.        ]]\n",
      "\n",
      " [[   0.            0.            0.            0.        ]\n",
      "  [  54.9539      -99.           38.02036666  -99.        ]\n",
      "  [   0.            0.            0.            0.        ]\n",
      "  [   0.            0.            0.            0.        ]\n",
      "  [   0.            0.            0.            0.        ]\n",
      "  [   0.            0.            0.            0.        ]\n",
      "  [   0.            0.            0.            0.        ]\n",
      "  [  70.19       -100.           54.95389999  -99.99999   ]\n",
      "  [   0.            0.            0.            0.        ]\n",
      "  [  54.9539      -99.           37.83121713  -90.        ]\n",
      "  [   0.            0.            0.            0.        ]]\n",
      "\n",
      " [[   0.            0.            0.            0.        ]\n",
      "  [  48.45851      36.93241571  -99.          -90.        ]\n",
      "  [ -90.           -4.54663392  -90.           42.612659  ]\n",
      "  [ -99.999999     37.3513931    28.0220458    36.93152233]\n",
      "  [ -99.9          42.612659    -99.99         32.24348956]\n",
      "  [ -99.9          48.45851     -99.99999      36.94163919]\n",
      "  [ -99.999        54.9539      -99.99999      42.15167746]\n",
      "  [  62.171      -100.           48.45850995   48.45851   ]\n",
      "  [   0.            0.            0.            0.        ]\n",
      "  [  48.45850876  -99.          -90.          -99.        ]\n",
      "  [   0.            0.            0.            0.        ]]\n",
      "\n",
      " [[   0.            0.            0.            0.        ]\n",
      "  [   0.            0.            0.            0.        ]\n",
      "  [   0.            0.            0.            0.        ]\n",
      "  [  32.61625379  -99.9          24.48654637  -99.        ]\n",
      "  [   0.            0.            0.            0.        ]\n",
      "  [   0.            0.            0.            0.        ]\n",
      "  [   0.            0.            0.            0.        ]\n",
      "  [  54.9539     -100.           42.612659   -100.        ]\n",
      "  [   0.            0.            0.            0.        ]\n",
      "  [   0.            0.            0.            0.        ]\n",
      "  [   0.            0.            0.            0.        ]]\n",
      "\n",
      " [[ -90.           17.96052405  -99.9          -6.77524513]\n",
      "  [ -99.           21.06724901  -99.99         12.9545268 ]\n",
      "  [ -99.           24.51916557  -99.9          17.13396743]\n",
      "  [  28.35462841   24.98603538  -99.999        -5.31556769]\n",
      "  [ -90.           32.61625379  -99.           21.50433764]\n",
      "  [-100.           37.3513931    28.35462841   28.02658666]\n",
      "  [ -99.99999999   42.612659    -99.99999999   32.61625379]\n",
      "  [  48.45851      37.35139306  -99.99999      37.35098106]\n",
      "  [ -99.9          32.41765947  -99.999        42.612659  ]\n",
      "  [ -90.           -5.72071273  -90.           37.3513931 ]\n",
      "  [ -99.           -5.720702    -99.           32.61625379]]\n",
      "\n",
      " [[   0.            0.            0.            0.        ]\n",
      "  [   0.            0.            0.            0.        ]\n",
      "  [   0.            0.            0.            0.        ]\n",
      "  [   0.            0.            0.            0.        ]\n",
      "  [   0.            0.            0.            0.        ]\n",
      "  [  32.61625379 -100.           24.51916557  -99.99999   ]\n",
      "  [   0.            0.            0.            0.        ]\n",
      "  [   0.            0.            0.            0.        ]\n",
      "  [   0.            0.            0.            0.        ]\n",
      "  [   0.            0.            0.            0.        ]\n",
      "  [   0.            0.            0.            0.        ]]\n",
      "\n",
      " [[   0.            0.            0.            0.        ]\n",
      "  [ -90.           15.1644717   -90.          -90.        ]\n",
      "  [ -99.           17.96052411  -99.9999       12.61822302]\n",
      "  [ -99.99999      21.06724901   13.00035335   15.16227994]\n",
      "  [ -99.9999       24.51916557  -99.9          17.96052387]\n",
      "  [  28.35462841   21.06461824  -99.9999999    21.06724634]\n",
      "  [ -99.9999       15.5937352   -99.9          24.51916557]\n",
      "  [ -99.9999       15.16235433   14.94615575   21.06724901]\n",
      "  [ -99.999        -6.39735795  -90.           17.96052411]\n",
      "  [ -99.9         -90.          -90.           15.1644717 ]\n",
      "  [   0.            0.            0.            0.        ]]\n",
      "\n",
      " [[   0.            0.            0.            0.        ]\n",
      "  [   0.            0.            0.            0.        ]\n",
      "  [   0.            0.            0.            0.        ]\n",
      "  [  17.96052411  -99.9999       -6.81051985  -99.9999    ]\n",
      "  [   0.            0.            0.            0.        ]\n",
      "  [   0.            0.            0.            0.        ]\n",
      "  [   0.            0.            0.            0.        ]\n",
      "  [  17.96052411  -99.99         10.70768569  -99.9       ]\n",
      "  [   0.            0.            0.            0.        ]\n",
      "  [   0.            0.            0.            0.        ]\n",
      "  [   0.            0.            0.            0.        ]]\n",
      "\n",
      " [[ -99.            8.34489987  -99.           -7.56991824]\n",
      "  [ -99.999        10.38322208  -99.           -7.3295851 ]\n",
      "  [ -99.           12.64802453  -99.9999        8.18783732]\n",
      "  [  15.1644717    10.2091317   -99.999        10.21133456]\n",
      "  [ -99.99          6.38226793  -99.99         12.64802453]\n",
      "  [ -99.99         -7.30172271  -99.9          10.38322208]\n",
      "  [ -90.           12.64802453  -90.            6.77866133]\n",
      "  [  15.1644717     8.64329762  -99.99         10.04138585]\n",
      "  [ -99.            6.78922514  -99.           12.64802453]\n",
      "  [ -99.           -7.34957433  -99.9          10.38322208]\n",
      "  [ -90.            5.10235989  -99.9999        8.34489987]]\n",
      "\n",
      " [[   0.            0.            0.            0.        ]\n",
      "  [   0.            0.            0.            0.        ]\n",
      "  [   0.            0.            0.            0.        ]\n",
      "  [   0.            0.            0.            0.        ]\n",
      "  [   0.            0.            0.            0.        ]\n",
      "  [   0.            0.            0.            0.        ]\n",
      "  [   0.            0.            0.            0.        ]\n",
      "  [   0.            0.            0.            0.        ]\n",
      "  [   0.            0.            0.            0.        ]\n",
      "  [   0.            0.            0.            0.        ]\n",
      "  [   0.            0.            0.            0.        ]]]\n"
     ]
    }
   ],
   "source": [
    "print(q_values)"
   ]
  },
  {
   "cell_type": "markdown",
   "metadata": {
    "id": "-JqQfjYdfyBh"
   },
   "source": [
    "## Get Shortest Paths\n",
    "Now that the AI agent has been fully trained, we can see what it has learned by displaying the shortest path between any location in the warehouse where the robot is allowed to travel and the item packaging area.\n",
    "\n",
    "![warehouse map](https://www.danielsoper.com/teaching/img/08-warehouse-map.png)\n",
    "\n",
    "Run the code cell below to try a few different starting locations!"
   ]
  },
  {
   "cell_type": "code",
   "execution_count": 24,
   "metadata": {
    "id": "F1YO3mj_oS2J"
   },
   "outputs": [
    {
     "name": "stdout",
     "output_type": "stream",
     "text": [
      "[[3, 9], [0, 5]]\n",
      "[[5, 0], [0, 5]]\n",
      "[[9, 5], [0, 5]]\n"
     ]
    }
   ],
   "source": [
    "#display a few shortest paths\n",
    "print(get_shortest_path(3, 9)) #starting at row 3, column 9\n",
    "print(get_shortest_path(5, 0)) #starting at row 5, column 0\n",
    "print(get_shortest_path(9, 5)) #starting at row 9, column 5"
   ]
  },
  {
   "cell_type": "markdown",
   "metadata": {
    "id": "tWx7BsJxqrDv"
   },
   "source": [
    "#### Finally...\n",
    "It's great that our robot can automatically take the shortest path from any 'legal' location in the warehouse to the item packaging area. **But what about the opposite scenario?**\n",
    "\n",
    "Put differently, our robot can currently deliver an item from anywhere in the warehouse ***to*** the packaging area, but after it delivers the item, it will need to travel ***from*** the packaging area to another location in the warehouse to pick up the next item!\n",
    "\n",
    "Don't worry -- this problem is easily solved simply by ***reversing the order of the shortest path***.\n",
    "\n",
    "Run the code cell below to see an example:"
   ]
  },
  {
   "cell_type": "code",
   "execution_count": 25,
   "metadata": {
    "id": "fKun8LInsas9"
   },
   "outputs": [
    {
     "name": "stdout",
     "output_type": "stream",
     "text": [
      "[[0, 5], [5, 2]]\n"
     ]
    }
   ],
   "source": [
    "#display an example of reversed shortest path\n",
    "path = get_shortest_path(5, 2) #go to row 5, column 2\n",
    "path.reverse()\n",
    "print(path)"
   ]
  },
  {
   "cell_type": "code",
   "execution_count": 177,
   "metadata": {},
   "outputs": [
    {
     "name": "stdout",
     "output_type": "stream",
     "text": [
      "100\n",
      "(100,)\n"
     ]
    },
    {
     "data": {
      "text/plain": [
       "array([[[0., 0., 0., 0.],\n",
       "        [0., 0., 0., 0.],\n",
       "        [0., 0., 0., 0.],\n",
       "        ...,\n",
       "        [0., 0., 0., 0.],\n",
       "        [0., 0., 0., 0.],\n",
       "        [0., 0., 0., 0.]],\n",
       "\n",
       "       [[0., 0., 0., 0.],\n",
       "        [0., 0., 0., 0.],\n",
       "        [0., 0., 0., 0.],\n",
       "        ...,\n",
       "        [0., 0., 0., 0.],\n",
       "        [0., 0., 0., 0.],\n",
       "        [0., 0., 0., 0.]],\n",
       "\n",
       "       [[0., 0., 0., 0.],\n",
       "        [0., 0., 0., 0.],\n",
       "        [0., 0., 0., 0.],\n",
       "        ...,\n",
       "        [0., 0., 0., 0.],\n",
       "        [0., 0., 0., 0.],\n",
       "        [0., 0., 0., 0.]],\n",
       "\n",
       "       ...,\n",
       "\n",
       "       [[0., 0., 0., 0.],\n",
       "        [0., 0., 0., 0.],\n",
       "        [0., 0., 0., 0.],\n",
       "        ...,\n",
       "        [0., 0., 0., 0.],\n",
       "        [0., 0., 0., 0.],\n",
       "        [0., 0., 0., 0.]],\n",
       "\n",
       "       [[0., 0., 0., 0.],\n",
       "        [0., 0., 0., 0.],\n",
       "        [0., 0., 0., 0.],\n",
       "        ...,\n",
       "        [0., 0., 0., 0.],\n",
       "        [0., 0., 0., 0.],\n",
       "        [0., 0., 0., 0.]],\n",
       "\n",
       "       [[0., 0., 0., 0.],\n",
       "        [0., 0., 0., 0.],\n",
       "        [0., 0., 0., 0.],\n",
       "        ...,\n",
       "        [0., 0., 0., 0.],\n",
       "        [0., 0., 0., 0.],\n",
       "        [0., 0., 0., 0.]]])"
      ]
     },
     "execution_count": 177,
     "metadata": {},
     "output_type": "execute_result"
    }
   ],
   "source": [
    "import numpy as np\n",
    "\n",
    "\n",
    "nSteps = 100 #number of time steps, in each time step, AP chooses a new channel\n",
    "\n",
    "#----Choose 1 channel out of (1,2,3,4) and take its corresponding channel power gain, g, in each time slot\n",
    "k = np.random.randint(low=1, high = 5, size=nSteps) #channel is decided randomly\n",
    "n = np.array([1.5,3,4.5,6])\n",
    "g = n[k-1]*1e-3\n",
    "\n",
    "\n",
    "K_J = np.random.randint(low=0, high = 2, size=nSteps) #should be an array randomly changing between 0 and 1 of dimension = number of time steps\n",
    "P_J = K_J #Absence of jammer in the channel indicates no jamming power\n",
    "\n",
    "r = 0.25\n",
    "τ = 1 #duration of each time slot is 1s\n",
    "τ_sense = 0.15\n",
    "τ_switch = np.array([0 if val == 1 else 0.1 for val in K_J])\n",
    "τ_EH = τ - (r*τ) - (τ_sense + τ_switch)\n",
    "\n",
    "P_T = 1# 1W of transmission power used by AP\n",
    "ξ = 0.8 #energy harvesting efficiency\n",
    "U_E = ξ*(abs(g)**2)*(P_J + P_T)*τ_EH #Unit Energy\n",
    "E_BC = 1*U_E # Let 1 unit of energy is used \n",
    "E_EH = 1*U_E\n",
    "E_h = k*U_E\n",
    "    \n",
    "#Reflection coeffcient\n",
    "s_bb = np.array([np.random.choice([1, -1]) for _ in range(nSteps)])\n",
    "mu = np.array([1 if val == 1 else 0 for val in s_bb]) # uniform random symbols from 0's and 1's, when tag wants to transmit 0, mu = 0, when tag wants to transmit 1, mu = 1\n",
    "\n",
    "E_B = np.zeros(nSteps)\n",
    "\n",
    "for j in range(nSteps):\n",
    "    E_B [j] = E_B [j] - mu[j]*E_BC[j] - (1 - mu[j])*E_EH[j] + (1 - mu[j])*E_h[j] + 1*U_E[j]\n",
    "\n",
    "print(len(E_B))\n",
    "print(np.shape(K_J))\n",
    "#define actions\n",
    "#numeric action codes: 0 = up, 1 = right, 2 = down, 3 = left\n",
    "actions = ['Channel 1', 'Channel 2', 'Channel 3', 'Channel 4']\n",
    "\n",
    "q_values = np.zeros((len(E_B), len(K_J), 4))\n",
    "q_values"
   ]
  },
  {
   "cell_type": "code",
   "execution_count": 173,
   "metadata": {},
   "outputs": [
    {
     "data": {
      "text/plain": [
       "array([[[0., 0., 0., 0.],\n",
       "        [0., 0., 0., 0.],\n",
       "        [0., 0., 0., 0.],\n",
       "        ...,\n",
       "        [0., 0., 0., 0.],\n",
       "        [0., 0., 0., 0.],\n",
       "        [0., 0., 0., 0.]],\n",
       "\n",
       "       [[0., 0., 0., 0.],\n",
       "        [0., 0., 0., 0.],\n",
       "        [0., 0., 0., 0.],\n",
       "        ...,\n",
       "        [0., 0., 0., 0.],\n",
       "        [0., 0., 0., 0.],\n",
       "        [0., 0., 0., 0.]],\n",
       "\n",
       "       [[0., 0., 0., 0.],\n",
       "        [0., 0., 0., 0.],\n",
       "        [0., 0., 0., 0.],\n",
       "        ...,\n",
       "        [0., 0., 0., 0.],\n",
       "        [0., 0., 0., 0.],\n",
       "        [0., 0., 0., 0.]],\n",
       "\n",
       "       ...,\n",
       "\n",
       "       [[0., 0., 0., 0.],\n",
       "        [0., 0., 0., 0.],\n",
       "        [0., 0., 0., 0.],\n",
       "        ...,\n",
       "        [0., 0., 0., 0.],\n",
       "        [0., 0., 0., 0.],\n",
       "        [0., 0., 0., 0.]],\n",
       "\n",
       "       [[0., 0., 0., 0.],\n",
       "        [0., 0., 0., 0.],\n",
       "        [0., 0., 0., 0.],\n",
       "        ...,\n",
       "        [0., 0., 0., 0.],\n",
       "        [0., 0., 0., 0.],\n",
       "        [0., 0., 0., 0.]],\n",
       "\n",
       "       [[0., 0., 0., 0.],\n",
       "        [0., 0., 0., 0.],\n",
       "        [0., 0., 0., 0.],\n",
       "        ...,\n",
       "        [0., 0., 0., 0.],\n",
       "        [0., 0., 0., 0.],\n",
       "        [0., 0., 0., 0.]]])"
      ]
     },
     "execution_count": 173,
     "metadata": {},
     "output_type": "execute_result"
    }
   ],
   "source": [
    "q_values = np.zeros((100, 100, 4))\n",
    "q_values"
   ]
  },
  {
   "cell_type": "code",
   "execution_count": 9,
   "metadata": {},
   "outputs": [
    {
     "name": "stdout",
     "output_type": "stream",
     "text": [
      "0\n",
      "1\n",
      "2\n",
      "3\n",
      "4\n",
      "5\n"
     ]
    }
   ],
   "source": [
    "import numpy as np\n",
    "#k = np.random.randint(low=1, high = 5, size=5)\n",
    "for j in range (5+1):\n",
    "    print(j)"
   ]
  },
  {
   "cell_type": "code",
   "execution_count": 45,
   "metadata": {},
   "outputs": [
    {
     "data": {
      "text/plain": [
       "2"
      ]
     },
     "execution_count": 45,
     "metadata": {},
     "output_type": "execute_result"
    }
   ],
   "source": [
    "from random import randrange, uniform\n",
    "K = 4\n",
    "# randrange gives you an integral value\n",
    "d = randrange(1, K+1)\n",
    "d"
   ]
  },
  {
   "cell_type": "code",
   "execution_count": 53,
   "metadata": {},
   "outputs": [
    {
     "data": {
      "text/plain": [
       "0.26344598948393505"
      ]
     },
     "execution_count": 53,
     "metadata": {},
     "output_type": "execute_result"
    }
   ],
   "source": [
    "p0 = np.random.uniform(low=0.0, high=1.0, size=None)\n",
    "p0"
   ]
  },
  {
   "cell_type": "code",
   "execution_count": 60,
   "metadata": {},
   "outputs": [
    {
     "name": "stdout",
     "output_type": "stream",
     "text": [
      "[2 3 4 4] [0.0045 0.003  0.0015 0.0015]\n"
     ]
    }
   ],
   "source": [
    "k = np.random.randint(low=1, high = 5, size=4) #channel is decided randomly\n",
    "n = np.array([6,4.5,3,1.5])\n",
    "g = n[(k-1)]*1e-3\n",
    "print(k,g)"
   ]
  },
  {
   "cell_type": "code",
   "execution_count": 79,
   "metadata": {},
   "outputs": [],
   "source": [
    "#import libraries\n",
    "import numpy as np\n",
    "\n",
    "#1) States, S ∈ {EB , KJ , PT , k}, 0 ≤ k ≤ K − 1\n",
    "#2) Actions, A ∈ {ak}, 0 ≤ k ≤ K − 1\n",
    "\n",
    "\n",
    "#----Choose 1 channel between channel 1 (900MHz), 2(910MHz), 3(920MHz) or 4(930MHz)---\n",
    "deltaf = 10e6\n",
    "Fc = 900e6 #900MHz\n",
    "k = np.random.randint(low=1, high = 5) #channel is decided randomly\n",
    "d_k = k-1\n",
    "h_k = Fc + (d_k*deltaf)\n",
    "\n",
    "\n",
    "#define the shape of the environment (i.e., its states)\n",
    "\n",
    "#environment_rows = 11\n",
    "#environment_columns = 11\n",
    "\n",
    "nSteps = 100 #number of time steps, in each time step, AP chooses a new channel\n",
    "#----Choose 1 channel out of (1,2,3,4) and take its corresponding channel power gain, g, in each time slot\n",
    "k = np.random.randint(low=1, high = 5, size=nSteps) #channel is decided randomly\n",
    "n = np.array([6,4.5,3,1.5])\n",
    "g = n[(k-1)]*1e-3 #channel power gain linearly related i.e. high frequency, low channel gain\n",
    "#Jammer\n",
    "K_J = np.random.randint(low=0, high = 2, size=nSteps) #should be an array randomly changing between 0 and 1 of dimension = number of time steps\n",
    "P_J = K_J #Absence of jammer in the channel indicates no jamming power; jamming power = 1W\n",
    "\n",
    "#Distribute the time slot in CS+EH+BC\n",
    "r = 0.25\n",
    "τ = 1 #duration of each time slot is 1s\n",
    "τ_sense = 0.15\n",
    "τ_switch = np.array([0 if val == 1 else 0.1 for val in K_J])\n",
    "τ_EH = τ - (r*τ) - (τ_sense + τ_switch)\n",
    "#Let's assign the power and energy levels\n",
    "P_T = 1# 1W of transmission power used by AP\n",
    "ξ = 0.8 #energy harvesting efficiency\n",
    "U_E = ξ*(abs(g)**2)*(P_J + P_T)*τ_EH #Unit Energy\n",
    "E_BC = 1*U_E # Let 1 Unit energy used, fixed, by tag circuit during BC operation\n",
    "E_EH = 1*U_E # Let 1 Unit energy used, fixed, by tag circuit during EH operation \n",
    "E_h = k*U_E # Let amount of harvested energy depends on which channel it is using e.g. for channel 1, E_h = 1*U_E, for channel 2, 2*U_E and so on\n",
    "\n",
    "    \n",
    "#Reflection coeffcient\n",
    "s_bb = np.array([np.random.choice([1, -1]) for _ in range(nSteps)])\n",
    "mu = np.array([1 if val == 1 else 0 for val in s_bb]) # uniform random symbols from 0's and 1's, when tag wants to transmit 0, mu = 0, when tag wants to transmit 1, mu = 1\n",
    "\n",
    "E_B = np.zeros(nSteps)\n",
    "\n",
    "for j in range(nSteps):\n",
    "    E_B [j] = E_B [j] - mu[j]*E_BC[j] - (1 - mu[j])*E_EH[j] + (1 - mu[j])*E_h[j] + 1*U_E[j]\n",
    "\n",
    "state = np.array([K_J, E_B])"
   ]
  },
  {
   "cell_type": "code",
   "execution_count": 80,
   "metadata": {},
   "outputs": [
    {
     "data": {
      "text/plain": [
       "(2, 100)"
      ]
     },
     "execution_count": 80,
     "metadata": {},
     "output_type": "execute_result"
    }
   ],
   "source": [
    "np.shape(state)"
   ]
  },
  {
   "cell_type": "code",
   "execution_count": 81,
   "metadata": {},
   "outputs": [
    {
     "name": "stdout",
     "output_type": "stream",
     "text": [
      "[[0.000e+00 0.000e+00 1.000e+00 1.000e+00 0.000e+00 0.000e+00 0.000e+00\n",
      "  0.000e+00 1.000e+00 0.000e+00 1.000e+00 1.000e+00 0.000e+00 1.000e+00\n",
      "  0.000e+00 0.000e+00 1.000e+00 0.000e+00 0.000e+00 1.000e+00 0.000e+00\n",
      "  1.000e+00 1.000e+00 1.000e+00 0.000e+00 1.000e+00 1.000e+00 1.000e+00\n",
      "  1.000e+00 0.000e+00 1.000e+00 0.000e+00 1.000e+00 1.000e+00 1.000e+00\n",
      "  0.000e+00 0.000e+00 0.000e+00 0.000e+00 1.000e+00 0.000e+00 0.000e+00\n",
      "  0.000e+00 1.000e+00 1.000e+00 1.000e+00 0.000e+00 1.000e+00 0.000e+00\n",
      "  0.000e+00 0.000e+00 0.000e+00 0.000e+00 0.000e+00 1.000e+00 0.000e+00\n",
      "  0.000e+00 1.000e+00 0.000e+00 1.000e+00 1.000e+00 0.000e+00 0.000e+00\n",
      "  0.000e+00 0.000e+00 1.000e+00 1.000e+00 0.000e+00 1.000e+00 0.000e+00\n",
      "  0.000e+00 1.000e+00 1.000e+00 0.000e+00 0.000e+00 0.000e+00 0.000e+00\n",
      "  1.000e+00 0.000e+00 0.000e+00 1.000e+00 0.000e+00 0.000e+00 1.000e+00\n",
      "  0.000e+00 1.000e+00 0.000e+00 1.000e+00 1.000e+00 0.000e+00 1.000e+00\n",
      "  0.000e+00 1.000e+00 0.000e+00 0.000e+00 0.000e+00 0.000e+00 1.000e+00\n",
      "  0.000e+00 1.000e+00]\n",
      " [1.440e-05 0.000e+00 0.000e+00 0.000e+00 0.000e+00 0.000e+00 0.000e+00\n",
      "  1.080e-05 0.000e+00 0.000e+00 3.456e-05 0.000e+00 0.000e+00 2.592e-05\n",
      "  3.600e-06 0.000e+00 0.000e+00 0.000e+00 1.620e-05 8.640e-06 0.000e+00\n",
      "  3.456e-05 0.000e+00 2.592e-05 0.000e+00 8.640e-06 0.000e+00 0.000e+00\n",
      "  3.888e-05 1.440e-05 3.456e-05 0.000e+00 0.000e+00 0.000e+00 8.640e-06\n",
      "  1.620e-05 1.620e-05 1.080e-05 0.000e+00 3.456e-05 0.000e+00 1.440e-05\n",
      "  0.000e+00 8.640e-06 0.000e+00 8.640e-06 1.440e-05 3.456e-05 0.000e+00\n",
      "  1.080e-05 0.000e+00 3.600e-06 1.080e-05 0.000e+00 3.456e-05 0.000e+00\n",
      "  0.000e+00 3.456e-05 0.000e+00 3.888e-05 0.000e+00 0.000e+00 1.440e-05\n",
      "  1.620e-05 0.000e+00 0.000e+00 0.000e+00 0.000e+00 0.000e+00 0.000e+00\n",
      "  0.000e+00 8.640e-06 0.000e+00 0.000e+00 0.000e+00 0.000e+00 1.080e-05\n",
      "  0.000e+00 0.000e+00 1.440e-05 0.000e+00 0.000e+00 0.000e+00 3.456e-05\n",
      "  1.080e-05 0.000e+00 1.620e-05 0.000e+00 0.000e+00 0.000e+00 0.000e+00\n",
      "  1.620e-05 2.592e-05 0.000e+00 3.600e-06 0.000e+00 0.000e+00 3.888e-05\n",
      "  0.000e+00 3.456e-05]]\n"
     ]
    }
   ],
   "source": [
    "print(state)"
   ]
  },
  {
   "cell_type": "code",
   "execution_count": 82,
   "metadata": {},
   "outputs": [
    {
     "data": {
      "text/plain": [
       "array([0.00e+00, 1.44e-05])"
      ]
     },
     "execution_count": 82,
     "metadata": {},
     "output_type": "execute_result"
    }
   ],
   "source": [
    "U = state[:,0]\n",
    "U"
   ]
  },
  {
   "cell_type": "code",
   "execution_count": 98,
   "metadata": {},
   "outputs": [
    {
     "name": "stdout",
     "output_type": "stream",
     "text": [
      "1 82\n"
     ]
    }
   ],
   "source": [
    "next_row = np.random.randint(low=0, high = 2)\n",
    "next_column = np.random.randint(low=0, high = 100)\n",
    "print(next_row,next_column)"
   ]
  },
  {
   "cell_type": "code",
   "execution_count": 167,
   "metadata": {},
   "outputs": [
    {
     "name": "stdout",
     "output_type": "stream",
     "text": [
      "[[[0.66838362 0.4103579  0.0697746  0.8303517 ]\n",
      "  [0.82618682 0.03318573 0.41352775 0.94849656]\n",
      "  [0.33486524 0.81327705 0.05308843 0.50264276]]\n",
      "\n",
      " [[0.38816431 0.28243416 0.47492171 0.19773776]\n",
      "  [0.12573328 0.8924733  0.74196385 0.81674982]\n",
      "  [0.93322222 0.94570638 0.34829318 0.37028252]]]\n",
      "2\n",
      "(2, 3, 4)\n"
     ]
    }
   ],
   "source": [
    "#state = np.random.rand(2,100)\n",
    "#row = state[]\n",
    "q_table = np.random.rand(2,3,4)\n",
    "print(q_table)\n",
    "print(len(q_table))\n",
    "print(np.shape(q_table))"
   ]
  },
  {
   "cell_type": "code",
   "execution_count": 165,
   "metadata": {},
   "outputs": [
    {
     "name": "stdout",
     "output_type": "stream",
     "text": [
      "(100,)\n"
     ]
    }
   ],
   "source": [
    "K_J = np.random.randint(low=0, high = 2, size=100)\n",
    "print(np.shape(K_J))"
   ]
  },
  {
   "cell_type": "code",
   "execution_count": 174,
   "metadata": {},
   "outputs": [
    {
     "name": "stdout",
     "output_type": "stream",
     "text": [
      "[[[0.80284578 0.01194902 0.41168095 0.77392066]\n",
      "  [0.35261173 0.32562449 0.32706888 0.37267393]\n",
      "  [0.35159665 0.52696494 0.29479223 0.60142558]\n",
      "  [0.59724564 0.97160071 0.80860265 0.55949034]\n",
      "  [0.59541497 0.25614193 0.84686993 0.81805394]\n",
      "  [0.09796632 0.96895653 0.70309402 0.92365937]\n",
      "  [0.22172416 0.04592308 0.89239432 0.00468517]\n",
      "  [0.6849288  0.84987956 0.10078164 0.9189663 ]\n",
      "  [0.01656204 0.97221451 0.81537811 0.57553775]\n",
      "  [0.17661353 0.30923953 0.72724295 0.52114328]]\n",
      "\n",
      " [[0.47290783 0.52935424 0.36929071 0.57823092]\n",
      "  [0.81729501 0.67748468 0.40330701 0.42186247]\n",
      "  [0.35302392 0.20885734 0.35842378 0.36444559]\n",
      "  [0.52785784 0.54789743 0.23047945 0.47036797]\n",
      "  [0.74751165 0.4682059  0.15323457 0.73722226]\n",
      "  [0.60677931 0.91019542 0.10246589 0.5237903 ]\n",
      "  [0.54136046 0.63696998 0.36766315 0.74720264]\n",
      "  [0.97287841 0.96493776 0.05640609 0.12169269]\n",
      "  [0.8397849  0.16565435 0.20712717 0.76556553]\n",
      "  [0.49799653 0.28095309 0.68869288 0.62946539]]\n",
      "\n",
      " [[0.57433165 0.96943392 0.66271522 0.29003395]\n",
      "  [0.30552319 0.36415644 0.84346517 0.06119713]\n",
      "  [0.81042551 0.41628521 0.50478157 0.03671216]\n",
      "  [0.66263392 0.53723546 0.19208593 0.5689257 ]\n",
      "  [0.62073044 0.79092013 0.90628549 0.5316082 ]\n",
      "  [0.66172173 0.68581353 0.72107581 0.49384085]\n",
      "  [0.68762155 0.65650904 0.80053133 0.38851054]\n",
      "  [0.15258141 0.98116943 0.1311431  0.54055   ]\n",
      "  [0.26022611 0.19374266 0.95683694 0.03621271]\n",
      "  [0.54746101 0.48762013 0.63923358 0.39585315]]\n",
      "\n",
      " [[0.44662981 0.04039907 0.89064969 0.7228104 ]\n",
      "  [0.35401005 0.87801751 0.07610656 0.09491596]\n",
      "  [0.99246573 0.44189625 0.37502623 0.80571384]\n",
      "  [0.59256808 0.84659843 0.25355057 0.87833309]\n",
      "  [0.36024971 0.32956155 0.96486005 0.96940987]\n",
      "  [0.97863738 0.32004228 0.73778691 0.62150586]\n",
      "  [0.48163188 0.82634884 0.05648763 0.49700207]\n",
      "  [0.21891891 0.42117583 0.85225061 0.01353406]\n",
      "  [0.48734993 0.71140293 0.33073973 0.00818321]\n",
      "  [0.4498301  0.02739196 0.23687535 0.58550221]]\n",
      "\n",
      " [[0.92039659 0.58105953 0.00546739 0.76127876]\n",
      "  [0.10756514 0.99025309 0.90589484 0.81939633]\n",
      "  [0.96569394 0.77301237 0.32080201 0.75958444]\n",
      "  [0.75852804 0.13284263 0.96749557 0.83775471]\n",
      "  [0.44825088 0.81108515 0.94486356 0.11422172]\n",
      "  [0.43629075 0.18157037 0.39018467 0.89650394]\n",
      "  [0.88661661 0.36829071 0.86172365 0.76730657]\n",
      "  [0.25937305 0.17850641 0.22441124 0.02273664]\n",
      "  [0.06920888 0.30015682 0.44212885 0.98923433]\n",
      "  [0.1265623  0.48372961 0.2978673  0.79826516]]\n",
      "\n",
      " [[0.84833064 0.15811593 0.40707907 0.21428441]\n",
      "  [0.09911561 0.9474872  0.36216791 0.147928  ]\n",
      "  [0.61463601 0.59872078 0.7383612  0.99143443]\n",
      "  [0.02177524 0.52514411 0.03850756 0.40223139]\n",
      "  [0.15492029 0.71104886 0.72540208 0.99302872]\n",
      "  [0.63131622 0.58858116 0.58577387 0.75057654]\n",
      "  [0.61609863 0.17740063 0.14936141 0.24301876]\n",
      "  [0.91706292 0.08752113 0.06503913 0.28847839]\n",
      "  [0.62895291 0.27249654 0.47339137 0.5550646 ]\n",
      "  [0.26582121 0.65079396 0.55421444 0.71715339]]\n",
      "\n",
      " [[0.58095035 0.25413304 0.45635136 0.48490678]\n",
      "  [0.16981702 0.16053933 0.04098504 0.69448684]\n",
      "  [0.60783916 0.18851753 0.89734638 0.25532549]\n",
      "  [0.30261741 0.65374405 0.96438665 0.57501511]\n",
      "  [0.54039543 0.03804689 0.0936325  0.90651937]\n",
      "  [0.56687747 0.96858515 0.49937041 0.01991918]\n",
      "  [0.17311589 0.02545355 0.24347366 0.26783244]\n",
      "  [0.26002986 0.2504629  0.2694586  0.11572714]\n",
      "  [0.62413938 0.2587474  0.22428679 0.06829558]\n",
      "  [0.38918079 0.9591175  0.78108054 0.71833469]]\n",
      "\n",
      " [[0.2757168  0.04688329 0.85134204 0.03275219]\n",
      "  [0.98734685 0.84243632 0.21224071 0.93938206]\n",
      "  [0.38833174 0.73215744 0.31985171 0.40929985]\n",
      "  [0.6471839  0.60894962 0.77921917 0.19790363]\n",
      "  [0.61540578 0.50830269 0.44145631 0.35407957]\n",
      "  [0.81133519 0.35052799 0.38201252 0.74065319]\n",
      "  [0.83118229 0.61212475 0.13875655 0.01967382]\n",
      "  [0.2976843  0.45856433 0.33861429 0.59454668]\n",
      "  [0.05659229 0.77637352 0.65223821 0.49769056]\n",
      "  [0.48355465 0.11463953 0.19616827 0.43871047]]\n",
      "\n",
      " [[0.54473063 0.83550923 0.8095588  0.98051885]\n",
      "  [0.39783962 0.64459195 0.33306955 0.13645857]\n",
      "  [0.63542746 0.21530739 0.19568625 0.93198559]\n",
      "  [0.20712192 0.39848602 0.11366705 0.0676828 ]\n",
      "  [0.10370643 0.0665061  0.2581029  0.23876326]\n",
      "  [0.16039693 0.04163341 0.72929134 0.17761982]\n",
      "  [0.31105857 0.77936041 0.17653227 0.17014852]\n",
      "  [0.53699736 0.41905264 0.08098702 0.74406074]\n",
      "  [0.93567506 0.25350034 0.02959457 0.17281343]\n",
      "  [0.87181821 0.5670563  0.66275119 0.06603533]]\n",
      "\n",
      " [[0.30913656 0.73557396 0.0546588  0.71275434]\n",
      "  [0.26908714 0.69077409 0.17035679 0.07385003]\n",
      "  [0.78764501 0.95057421 0.32364595 0.05972118]\n",
      "  [0.79191232 0.11293118 0.90365595 0.05121681]\n",
      "  [0.34350669 0.83531888 0.35943837 0.54971495]\n",
      "  [0.52858787 0.10326863 0.01586195 0.44378226]\n",
      "  [0.17656028 0.393226   0.14909389 0.59960618]\n",
      "  [0.31463947 0.68025156 0.68590254 0.74150926]\n",
      "  [0.31754541 0.13867984 0.17830845 0.04170776]\n",
      "  [0.72289188 0.21871037 0.94995266 0.36262714]]]\n"
     ]
    }
   ],
   "source": [
    "# Assume Q_table is the learned Q-table (a 2D array where rows represent states and columns represent actions)\n",
    "# state is the current state for which you want to find the optimal action\n",
    "E_B = np.random.rand(10)\n",
    "K_J = np.random.randint(low=0, high = 2, size=10)\n",
    "q_table = np.random.rand((len(E_B)),(len(E_B)),4)\n",
    "print(q_table)"
   ]
  },
  {
   "cell_type": "code",
   "execution_count": 175,
   "metadata": {},
   "outputs": [
    {
     "name": "stdout",
     "output_type": "stream",
     "text": [
      "Optimal action for state 0 0 is action 0\n",
      "Optimal action for state 0 1 is action 3\n",
      "Optimal action for state 0 2 is action 3\n",
      "Optimal action for state 0 3 is action 1\n",
      "Optimal action for state 0 4 is action 2\n",
      "Optimal action for state 0 5 is action 1\n",
      "Optimal action for state 0 6 is action 2\n",
      "Optimal action for state 0 7 is action 3\n",
      "Optimal action for state 0 8 is action 1\n",
      "Optimal action for state 0 9 is action 2\n",
      "Optimal action for state 1 0 is action 3\n",
      "Optimal action for state 1 1 is action 0\n",
      "Optimal action for state 1 2 is action 3\n",
      "Optimal action for state 1 3 is action 1\n",
      "Optimal action for state 1 4 is action 0\n",
      "Optimal action for state 1 5 is action 1\n",
      "Optimal action for state 1 6 is action 3\n",
      "Optimal action for state 1 7 is action 0\n",
      "Optimal action for state 1 8 is action 0\n",
      "Optimal action for state 1 9 is action 2\n",
      "Optimal action for state 2 0 is action 1\n",
      "Optimal action for state 2 1 is action 2\n",
      "Optimal action for state 2 2 is action 0\n",
      "Optimal action for state 2 3 is action 0\n",
      "Optimal action for state 2 4 is action 2\n",
      "Optimal action for state 2 5 is action 2\n",
      "Optimal action for state 2 6 is action 2\n",
      "Optimal action for state 2 7 is action 1\n",
      "Optimal action for state 2 8 is action 2\n",
      "Optimal action for state 2 9 is action 2\n",
      "Optimal action for state 3 0 is action 2\n",
      "Optimal action for state 3 1 is action 1\n",
      "Optimal action for state 3 2 is action 0\n",
      "Optimal action for state 3 3 is action 3\n",
      "Optimal action for state 3 4 is action 3\n",
      "Optimal action for state 3 5 is action 0\n",
      "Optimal action for state 3 6 is action 1\n",
      "Optimal action for state 3 7 is action 2\n",
      "Optimal action for state 3 8 is action 1\n",
      "Optimal action for state 3 9 is action 3\n",
      "Optimal action for state 4 0 is action 0\n",
      "Optimal action for state 4 1 is action 1\n",
      "Optimal action for state 4 2 is action 0\n",
      "Optimal action for state 4 3 is action 2\n",
      "Optimal action for state 4 4 is action 2\n",
      "Optimal action for state 4 5 is action 3\n",
      "Optimal action for state 4 6 is action 0\n",
      "Optimal action for state 4 7 is action 0\n",
      "Optimal action for state 4 8 is action 3\n",
      "Optimal action for state 4 9 is action 3\n",
      "Optimal action for state 5 0 is action 0\n",
      "Optimal action for state 5 1 is action 1\n",
      "Optimal action for state 5 2 is action 3\n",
      "Optimal action for state 5 3 is action 1\n",
      "Optimal action for state 5 4 is action 3\n",
      "Optimal action for state 5 5 is action 3\n",
      "Optimal action for state 5 6 is action 0\n",
      "Optimal action for state 5 7 is action 0\n",
      "Optimal action for state 5 8 is action 0\n",
      "Optimal action for state 5 9 is action 3\n",
      "Optimal action for state 6 0 is action 0\n",
      "Optimal action for state 6 1 is action 3\n",
      "Optimal action for state 6 2 is action 2\n",
      "Optimal action for state 6 3 is action 2\n",
      "Optimal action for state 6 4 is action 3\n",
      "Optimal action for state 6 5 is action 1\n",
      "Optimal action for state 6 6 is action 3\n",
      "Optimal action for state 6 7 is action 2\n",
      "Optimal action for state 6 8 is action 0\n",
      "Optimal action for state 6 9 is action 1\n",
      "Optimal action for state 7 0 is action 2\n",
      "Optimal action for state 7 1 is action 0\n",
      "Optimal action for state 7 2 is action 1\n",
      "Optimal action for state 7 3 is action 2\n",
      "Optimal action for state 7 4 is action 0\n",
      "Optimal action for state 7 5 is action 0\n",
      "Optimal action for state 7 6 is action 0\n",
      "Optimal action for state 7 7 is action 3\n",
      "Optimal action for state 7 8 is action 1\n",
      "Optimal action for state 7 9 is action 0\n",
      "Optimal action for state 8 0 is action 3\n",
      "Optimal action for state 8 1 is action 1\n",
      "Optimal action for state 8 2 is action 3\n",
      "Optimal action for state 8 3 is action 1\n",
      "Optimal action for state 8 4 is action 2\n",
      "Optimal action for state 8 5 is action 2\n",
      "Optimal action for state 8 6 is action 1\n",
      "Optimal action for state 8 7 is action 3\n",
      "Optimal action for state 8 8 is action 0\n",
      "Optimal action for state 8 9 is action 0\n",
      "Optimal action for state 9 0 is action 1\n",
      "Optimal action for state 9 1 is action 1\n",
      "Optimal action for state 9 2 is action 1\n",
      "Optimal action for state 9 3 is action 2\n",
      "Optimal action for state 9 4 is action 1\n",
      "Optimal action for state 9 5 is action 0\n",
      "Optimal action for state 9 6 is action 3\n",
      "Optimal action for state 9 7 is action 3\n",
      "Optimal action for state 9 8 is action 0\n",
      "Optimal action for state 9 9 is action 2\n"
     ]
    }
   ],
   "source": [
    "for i in range(len(E_B)):\n",
    "    for j in range(len(K_J)):\n",
    "        optimal_action = np.argmax(q_table[i,j,:]) #np.argmax(q_values_for_state)  \n",
    "        print(\"Optimal action for state\", i,j , \"is action\", optimal_action)"
   ]
  },
  {
   "cell_type": "code",
   "execution_count": 145,
   "metadata": {},
   "outputs": [
    {
     "ename": "TypeError",
     "evalue": "array() takes from 1 to 2 positional arguments but 4 were given",
     "output_type": "error",
     "traceback": [
      "\u001b[1;31m---------------------------------------------------------------------------\u001b[0m",
      "\u001b[1;31mTypeError\u001b[0m                                 Traceback (most recent call last)",
      "Input \u001b[1;32mIn [145]\u001b[0m, in \u001b[0;36m<cell line: 1>\u001b[1;34m()\u001b[0m\n\u001b[1;32m----> 1\u001b[0m a \u001b[38;5;241m=\u001b[39m \u001b[43mnp\u001b[49m\u001b[38;5;241;43m.\u001b[39;49m\u001b[43marray\u001b[49m\u001b[43m(\u001b[49m\u001b[43m[\u001b[49m\u001b[38;5;241;43m1\u001b[39;49m\u001b[43m,\u001b[49m\u001b[38;5;241;43m8\u001b[39;49m\u001b[43m,\u001b[49m\u001b[38;5;241;43m6\u001b[39;49m\u001b[43m]\u001b[49m\u001b[43m,\u001b[49m\u001b[43m[\u001b[49m\u001b[38;5;241;43m2\u001b[39;49m\u001b[43m,\u001b[49m\u001b[38;5;241;43m9\u001b[39;49m\u001b[43m,\u001b[49m\u001b[38;5;241;43m4\u001b[39;49m\u001b[43m]\u001b[49m\u001b[43m,\u001b[49m\u001b[43m[\u001b[49m\u001b[38;5;241;43m1\u001b[39;49m\u001b[43m,\u001b[49m\u001b[38;5;241;43m8\u001b[39;49m\u001b[43m,\u001b[49m\u001b[38;5;241;43m6\u001b[39;49m\u001b[43m]\u001b[49m\u001b[43m,\u001b[49m\u001b[43m[\u001b[49m\u001b[38;5;241;43m2\u001b[39;49m\u001b[43m,\u001b[49m\u001b[38;5;241;43m9\u001b[39;49m\u001b[43m,\u001b[49m\u001b[38;5;241;43m4\u001b[39;49m\u001b[43m]\u001b[49m\u001b[43m)\u001b[49m\n\u001b[0;32m      2\u001b[0m \u001b[38;5;28mprint\u001b[39m(a)\n\u001b[0;32m      3\u001b[0m \u001b[38;5;28mprint\u001b[39m(np\u001b[38;5;241m.\u001b[39margmax(a))\n",
      "\u001b[1;31mTypeError\u001b[0m: array() takes from 1 to 2 positional arguments but 4 were given"
     ]
    }
   ],
   "source": [
    "a = np.array([1,8,6],[2,9,4],[1,8,6],[2,9,4])\n",
    "print(a)\n",
    "print(np.argmax(a))"
   ]
  },
  {
   "cell_type": "code",
   "execution_count": 110,
   "metadata": {},
   "outputs": [
    {
     "ename": "TypeError",
     "evalue": "only integer scalar arrays can be converted to a scalar index",
     "output_type": "error",
     "traceback": [
      "\u001b[1;31m---------------------------------------------------------------------------\u001b[0m",
      "\u001b[1;31mTypeError\u001b[0m                                 Traceback (most recent call last)",
      "Input \u001b[1;32mIn [110]\u001b[0m, in \u001b[0;36m<cell line: 1>\u001b[1;34m()\u001b[0m\n\u001b[1;32m----> 1\u001b[0m \u001b[38;5;28;01mfor\u001b[39;00m state \u001b[38;5;129;01min\u001b[39;00m \u001b[38;5;28;43mrange\u001b[39;49m\u001b[43m(\u001b[49m\u001b[43mstate\u001b[49m\u001b[43m)\u001b[49m:\n\u001b[0;32m      2\u001b[0m     \u001b[38;5;66;03m# Get the row corresponding to the current state from the Q-table\u001b[39;00m\n\u001b[0;32m      3\u001b[0m     q_values_for_state \u001b[38;5;241m=\u001b[39m q_table[state, :]\n\u001b[0;32m      4\u001b[0m     \u001b[38;5;66;03m# Find the index of the action with the highest Q-value (optimal action)\u001b[39;00m\n",
      "\u001b[1;31mTypeError\u001b[0m: only integer scalar arrays can be converted to a scalar index"
     ]
    }
   ],
   "source": [
    "for state in range(state):\n",
    "    # Get the row corresponding to the current state from the Q-table\n",
    "    q_values_for_state = q_table[state, :]\n",
    "    # Find the index of the action with the highest Q-value (optimal action)\n",
    "    optimal_action = np.argmax(q_values_for_state)\n",
    "    print(\"Optimal action for state\", state, \"is action\", optimal_action)"
   ]
  },
  {
   "cell_type": "code",
   "execution_count": 13,
   "metadata": {},
   "outputs": [
    {
     "name": "stdout",
     "output_type": "stream",
     "text": [
      "AP uses channel 1 having frequency 900000000.0\n"
     ]
    },
    {
     "data": {
      "image/png": "[encoded data removed]",
      "text/plain": [
       "<Figure size 720x288 with 1 Axes>"
      ]
     },
     "metadata": {
      "needs_background": "light"
     },
     "output_type": "display_data"
    }
   ],
   "source": [
    "#Execute in Python3: exec(open(\"chapter_2/bpsk.py\").read())\n",
    "import numpy as np #for numerical computing\n",
    "import matplotlib.pyplot as plt #for plotting functions\n",
    "#from DigiCommPy.passband_modulations import bpsk_mod, bpsk_demod\n",
    "#from DigiCommPy.channels import awgn\n",
    "from scipy.special import erfc\n",
    "\n",
    "\n",
    "def bpsk_mod(ak,L):\n",
    "    from scipy.signal import upfirdn\n",
    "    s_bb = upfirdn(h=[1]*L, x=2*ak-1, up = L) # NRZ encoder\n",
    "    t=np.arange(start = 0,stop = len(ak)*L) #discrete time base\n",
    "    return (s_bb,t)\n",
    "\n",
    "\n",
    "N=5 # Number of symbols to transmit\n",
    "EbN0dB = np.arange(start=-4,stop = 11,step = 2) # Eb/N0 range in dB for simulation\n",
    "L=16 # oversampling factor,L=Tb/Ts(Tb=bit period,Ts=sampling period)\n",
    "# if a carrier is used, use L = Fs/Fc, where Fs >> 2xFc\n",
    "#Fc=900e-6 # carrier frequency\n",
    "\n",
    "#----Choose 1 channel between channel 1 (900MHz), 2(910MHz), 3(920MHz) or 4(930MHz)---\n",
    "deltaf = 10e6\n",
    "Fc = 900e6 #900MHz\n",
    "k = np.random.randint(low=1, high = 5) #channel is decided randomly\n",
    "d_k = k-1\n",
    "h_k = Fc + (d_k*deltaf)\n",
    "print('AP uses channel '+str(k)+' having frequency '+str(h_k))\n",
    "\n",
    "Fs=L*Fc # sampling frequency\n",
    "BER = np.zeros(len(EbN0dB)) # for BER values for each Eb/N0\n",
    "ak = np.random.randint(2, size=N) # uniform random symbols from 0's and 1's\n",
    "(s_bb,t)= bpsk_mod(ak,L) # BPSK modulation(waveform) - baseband\n",
    "\n",
    "\n",
    "\n",
    "# Waveforms at the transmitter\n",
    "#plotting the baseband signal\n",
    "plt.figure(figsize=(10, 4))\n",
    "plt.plot(t,s_bb) # baseband wfm zoomed to first 10 bits\n",
    "plt.xlabel('time (in s)')\n",
    "plt.xlim(0,10*L);\n",
    "plt.ylabel(r'$s_{bb}(t)$-baseband')\n",
    "plt.grid(True)\n",
    "plt.show()\n"
   ]
  },
  {
   "cell_type": "code",
   "execution_count": 14,
   "metadata": {},
   "outputs": [
    {
     "name": "stdout",
     "output_type": "stream",
     "text": [
      "[1 1 1 0 0]\n"
     ]
    }
   ],
   "source": [
    "print(ak)"
   ]
  },
  {
   "cell_type": "code",
   "execution_count": 45,
   "metadata": {},
   "outputs": [
    {
     "data": {
      "text/plain": [
       "(-2.0, 2.0)"
      ]
     },
     "execution_count": 45,
     "metadata": {},
     "output_type": "execute_result"
    },
    {
     "data": {
      "image/png": "[encoded data removed]",
      "text/plain": [
       "<Figure size 432x288 with 1 Axes>"
      ]
     },
     "metadata": {
      "needs_background": "light"
     },
     "output_type": "display_data"
    }
   ],
   "source": [
    "import numpy as np\n",
    "from scipy import signal\n",
    "import matplotlib.pyplot as plt\n",
    "t = np.linspace(0, 1, 500, endpoint=False) #A 5 Hz waveform sampled at 500 Hz for 1s\n",
    "plt.plot(t, signal.square(-1*(2 * np.pi * 1 * t), duty=0.25)) #A 5 Hz waveform for 1s creating 5 cycles in 1s\n",
    "plt.ylim(-2, 2)"
   ]
  },
  {
   "cell_type": "code",
   "execution_count": 37,
   "metadata": {},
   "outputs": [
    {
     "data": {
      "text/plain": [
       "array([ 1., -1., -1., -1., -1., -1., -1.,  1., -1., -1.,  1., -1., -1.,\n",
       "        1., -1., -1.,  1., -1., -1.,  1., -1., -1.,  1., -1., -1.,  1.,\n",
       "       -1., -1., -1., -1., -1., -1.,  1., -1., -1.,  1., -1., -1.,  1.,\n",
       "       -1., -1.,  1., -1., -1.,  1., -1., -1.,  1., -1., -1.,  1., -1.,\n",
       "       -1., -1., -1., -1., -1.,  1., -1., -1.,  1., -1., -1.,  1., -1.,\n",
       "       -1.,  1., -1., -1.,  1., -1., -1.,  1., -1., -1.,  1., -1., -1.,\n",
       "       -1., -1., -1., -1.,  1., -1., -1.,  1., -1., -1.,  1., -1., -1.,\n",
       "        1., -1., -1.,  1., -1., -1.,  1., -1., -1.,  1., -1., -1., -1.,\n",
       "       -1., -1., -1.,  1., -1., -1.,  1., -1., -1.,  1., -1., -1.,  1.,\n",
       "       -1., -1.,  1., -1., -1.,  1., -1., -1.,  1., -1., -1., -1., -1.,\n",
       "       -1., -1.,  1., -1., -1.,  1., -1., -1.,  1., -1., -1.,  1., -1.,\n",
       "       -1.,  1., -1., -1.,  1., -1., -1.,  1., -1., -1., -1., -1., -1.,\n",
       "       -1.,  1., -1., -1.,  1., -1., -1.,  1., -1., -1.,  1., -1., -1.,\n",
       "        1., -1., -1.,  1., -1., -1.,  1., -1., -1., -1., -1., -1., -1.,\n",
       "        1., -1., -1.,  1., -1., -1.,  1., -1., -1.,  1., -1., -1.,  1.,\n",
       "       -1., -1.,  1., -1., -1.,  1., -1., -1., -1., -1., -1., -1.,  1.,\n",
       "       -1., -1.,  1., -1., -1.,  1., -1., -1.,  1., -1., -1.,  1., -1.,\n",
       "       -1.,  1., -1., -1.,  1., -1., -1., -1., -1., -1., -1.,  1., -1.,\n",
       "       -1.,  1., -1., -1.,  1., -1., -1.,  1., -1., -1.,  1., -1., -1.,\n",
       "        1., -1., -1.,  1., -1., -1., -1., -1., -1., -1.,  1., -1., -1.,\n",
       "        1., -1., -1.,  1., -1., -1.,  1., -1., -1.,  1., -1., -1.,  1.,\n",
       "       -1., -1., -1., -1., -1., -1., -1., -1., -1.,  1., -1., -1.,  1.,\n",
       "       -1., -1.,  1., -1., -1.,  1., -1., -1.,  1., -1., -1.,  1., -1.,\n",
       "       -1.,  1., -1., -1., -1., -1., -1., -1.,  1., -1., -1.,  1., -1.,\n",
       "       -1.,  1., -1., -1.,  1., -1., -1.,  1., -1., -1.,  1., -1., -1.,\n",
       "        1., -1., -1., -1., -1., -1., -1.,  1., -1., -1.,  1., -1., -1.,\n",
       "        1., -1., -1.,  1., -1., -1.,  1., -1., -1.,  1., -1., -1.,  1.,\n",
       "       -1., -1., -1., -1., -1., -1.,  1., -1., -1.,  1., -1., -1.,  1.,\n",
       "       -1., -1.,  1., -1., -1.,  1., -1., -1.,  1., -1., -1., -1., -1.,\n",
       "       -1., -1., -1., -1., -1.,  1., -1., -1.,  1., -1., -1.,  1., -1.,\n",
       "       -1.,  1., -1., -1.,  1., -1., -1.,  1., -1., -1.,  1., -1., -1.,\n",
       "       -1., -1., -1., -1.,  1., -1., -1.,  1., -1., -1.,  1., -1., -1.,\n",
       "        1., -1., -1.,  1., -1., -1.,  1., -1., -1.,  1., -1., -1., -1.,\n",
       "       -1., -1., -1.,  1., -1., -1.,  1., -1., -1.,  1., -1., -1.,  1.,\n",
       "       -1., -1.,  1., -1., -1.,  1., -1., -1.,  1., -1., -1., -1., -1.,\n",
       "       -1., -1.,  1., -1., -1.,  1., -1., -1.,  1., -1., -1.,  1., -1.,\n",
       "       -1.,  1., -1., -1.,  1., -1., -1., -1., -1., -1., -1., -1., -1.,\n",
       "       -1.,  1., -1., -1.,  1., -1., -1.,  1., -1., -1.,  1., -1., -1.,\n",
       "        1., -1., -1.,  1., -1., -1.])"
      ]
     },
     "execution_count": 37,
     "metadata": {},
     "output_type": "execute_result"
    }
   ],
   "source": [
    "x=signal.square((2 * np.pi * 1 * t), duty=0.25)\n",
    "x"
   ]
  },
  {
   "cell_type": "code",
   "execution_count": 35,
   "metadata": {},
   "outputs": [
    {
     "name": "stdout",
     "output_type": "stream",
     "text": [
      "[-3.  -2.5 -2.  -1.5 -1.  -0.5  0.   0.5  1.   1.5  2.   2.5]\n"
     ]
    }
   ],
   "source": [
    "print(np.arange(-3, 3, 0.5))"
   ]
  },
  {
   "cell_type": "code",
   "execution_count": 51,
   "metadata": {},
   "outputs": [
    {
     "name": "stdout",
     "output_type": "stream",
     "text": [
      "[array([3465.64546235, 3907.37043247, 4785.49809605, 6155.56881391,\n",
      "       7766.52307218, 9158.32621282, 9837.30500871, 9987.96644942])]\n"
     ]
    }
   ],
   "source": [
    "import math\n",
    "#rewards\n",
    "R_b = 10e3 #10kbps - tag transmits with a fixed data rate R_b\n",
    "τ = 1\n",
    "C = np.zeros(8)\n",
    "rewards = np.zeros(8)\n",
    "rewards_all_episodes = []\n",
    "BER = np.array([3.6003e-01, 2.9812e-01, 2.1573e-01, 1.2898e-01, 5.8690e-02, 1.6520e-02, 2.3000e-03, 1.2000e-04])\n",
    "for j in range(len(BER)):\n",
    "    C[j] = 1 + BER[j]*math.log(BER[j]) + (1 - BER[j])*math.log(1 - BER[j])\n",
    "    rewards[j] = R_b*C[j]*τ\n",
    "rewards_all_episodes.append(rewards)\n",
    "print(rewards_all_episodes)"
   ]
  }
 ],
 "metadata": {
  "colab": {
   "provenance": []
  },
  "kernelspec": {
   "display_name": "Python 3 (ipykernel)",
   "language": "python",
   "name": "python3"
  },
  "language_info": {
   "codemirror_mode": {
    "name": "ipython",
    "version": 3
   },
   "file_extension": ".py",
   "mimetype": "text/x-python",
   "name": "python",
   "nbconvert_exporter": "python",
   "pygments_lexer": "ipython3",
   "version": "3.9.12"
  }
 },
 "nbformat": 4,
 "nbformat_minor": 1
}
