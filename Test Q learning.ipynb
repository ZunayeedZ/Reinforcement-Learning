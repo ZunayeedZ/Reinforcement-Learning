{
 "cells": [
  {
   "cell_type": "markdown",
   "id": "e38bb3fb",
   "metadata": {},
   "source": [
    "### Use Q-learning to find the shortest path between 2 points"
   ]
  },
  {
   "cell_type": "code",
   "execution_count": 2,
   "id": "1ac0b9e6",
   "metadata": {},
   "outputs": [],
   "source": [
    "import numpy as np"
   ]
  },
  {
   "cell_type": "code",
   "execution_count": 3,
   "id": "73cfac42",
   "metadata": {},
   "outputs": [],
   "source": [
    "#Define the states (assign locations to states; locations = all the locations of the nodes)\n",
    "location_to_state = {'L1' : 0, 'L2' : 1, 'L3' : 2, 'L4' : 3, 'L5' : 4, 'L6' : 5, 'L7' : 6, 'L8' : 7, 'L9' : 8}"
   ]
  },
  {
   "cell_type": "code",
   "execution_count": 4,
   "id": "9452dde1",
   "metadata": {},
   "outputs": [],
   "source": [
    "#Define the actions\n",
    "actions = [0,1,2,3,4,5,6,7,8]"
   ]
  },
  {
   "cell_type": "code",
   "execution_count": 5,
   "id": "413067f1",
   "metadata": {},
   "outputs": [],
   "source": [
    "#Definte the rewards\n",
    "rewards =np.array([[0,1,0,0,0,0,0,0,0],[1,0,1,0,1,0,0,0,0],[0,1,0,0,0,1,0,0,0],[0,0,0,0,0,0,1,0,0],[0,1,0,0,0,0,0,1,0],[0,0,1,0,0,0,0,0,0],[0,0,0,1,0,0,0,1,0],[0,0,0,0,1,0,1,0,1],[0,0,0,0,0,0,0,1,0]])"
   ]
  },
  {
   "cell_type": "code",
   "execution_count": 6,
   "id": "971e14fa",
   "metadata": {},
   "outputs": [],
   "source": [
    "#maps indices to locations\n",
    "state_to_location = dict((state,location) for location,state in location_to_state.items())\n",
    "\n",
    "#initialize parameters\n",
    "gamma = 0.75 #discount factor\n",
    "alpha = 0.9 #learning rate"
   ]
  },
  {
   "cell_type": "code",
   "execution_count": 8,
   "id": "9dbac7f5",
   "metadata": {},
   "outputs": [
    {
     "name": "stdout",
     "output_type": "stream",
     "text": [
      "{'L1': 0, 'L2': 1, 'L3': 2, 'L4': 3, 'L5': 4, 'L6': 5, 'L7': 6, 'L8': 7, 'L9': 8}\n"
     ]
    }
   ],
   "source": [
    "print(location_to_state)"
   ]
  },
  {
   "cell_type": "code",
   "execution_count": 7,
   "id": "5adaa1bf",
   "metadata": {},
   "outputs": [
    {
     "name": "stdout",
     "output_type": "stream",
     "text": [
      "{0: 'L1', 1: 'L2', 2: 'L3', 3: 'L4', 4: 'L5', 5: 'L6', 6: 'L7', 7: 'L8', 8: 'L9'}\n"
     ]
    }
   ],
   "source": [
    "print(state_to_location)"
   ]
  },
  {
   "cell_type": "code",
   "execution_count": 21,
   "id": "f167ada8",
   "metadata": {},
   "outputs": [],
   "source": [
    "class QAgent():\n",
    "    #Initialize alpha, gamma, states, actions, rewards and Q-values\n",
    "    def __init__(self, alpha, gamma, location_to_state, actions, rewards, state_to_location, Q):\n",
    "        self.gamma = gamma\n",
    "        self.alpha = alpha\n",
    "        \n",
    "        self.location_to_state = location_to_state\n",
    "        self.actions = actions\n",
    "        self.rewards = rewards\n",
    "        self.state_to_location = state_to_location\n",
    "        self.Q = Q\n",
    "        \n",
    "        #Let's create a Q-table\n",
    "        M = len(location_to_state)\n",
    "        self.Q = np.zeros((M,M), dtype = None, order = 'C') #To store multi-dim data in row-major(C) \n",
    "        \n",
    "        #Training the robot in the environment\n",
    "    def training(self, start_location,end_location,iterations):\n",
    "        rewards_new = np.copy(self.rewards)\n",
    "        ending_state = self.location_to_state[end_location]\n",
    "        rewards_new[ending_state, ending_state] = 999 \n",
    "    \n",
    "        #picking a random current state\n",
    "        for i in range(iterations):\n",
    "            current_state = np.random.randint(0,9) #pick a random state to start with\n",
    "            playable_actions = [] \n",
    "        \n",
    "            #iterate through the rewards matrix to get the states\n",
    "            #directly reachable from the randomly chosen current state\n",
    "            #assign those state in a list named playable_actions\n",
    "            for j in range(9): #9 locations\n",
    "                if rewards_new[current_state,j] > 0:\n",
    "                    playable_actions.append(j)\n",
    "                \n",
    "            #choosing a random next state\n",
    "            next_state = np.random.choice(playable_actions)\n",
    "    \n",
    "            #finding temporal difference (Bellman's equation)\n",
    "            TD = rewards_new[current_state,next_state] + \\\n",
    "                self.gamma*self.Q[next_state, np.argmax(self.Q[next_state,])] - self.Q[current_state,next_state]\n",
    "    \n",
    "            self.Q[current_state,next_state] += self.alpha *TD\n",
    "        #incrementing\n",
    "        route = [start_location]\n",
    "        next_location = start_Location\n",
    "        #Get the route\n",
    "        self.get_optimal_route(start_location, end_location, next_location, route, self.Q)\n",
    "    #Get the optimal route\n",
    "    def get_optimal_route(self,start_location,end_location,next_location,route,Q):\n",
    "    \n",
    "        while(next_location != end_location): #run till we reach end_location\n",
    "            starting_state = self.location_to_state[start_location]\n",
    "            next_state = np.argmax(Q[starting_state,]) #next one with the best value\n",
    "            next_location = self.state_to_location[next_state]\n",
    "            route.append(next_location)\n",
    "            start_location = next_location\n",
    "        \n",
    "        print(route)"
   ]
  },
  {
   "cell_type": "code",
   "execution_count": 23,
   "id": "1d2e7793",
   "metadata": {},
   "outputs": [
    {
     "ename": "TypeError",
     "evalue": "__init__() missing 1 required positional argument: 'Q'",
     "output_type": "error",
     "traceback": [
      "\u001b[1;31m---------------------------------------------------------------------------\u001b[0m",
      "\u001b[1;31mTypeError\u001b[0m                                 Traceback (most recent call last)",
      "Input \u001b[1;32mIn [23]\u001b[0m, in \u001b[0;36m<cell line: 1>\u001b[1;34m()\u001b[0m\n\u001b[1;32m----> 1\u001b[0m qagent \u001b[38;5;241m=\u001b[39m \u001b[43mQAgent\u001b[49m\u001b[43m(\u001b[49m\u001b[43malpha\u001b[49m\u001b[43m,\u001b[49m\u001b[43m \u001b[49m\u001b[43mgamma\u001b[49m\u001b[43m,\u001b[49m\u001b[43m \u001b[49m\u001b[43mlocation_to_state\u001b[49m\u001b[43m,\u001b[49m\u001b[43m \u001b[49m\u001b[43mactions\u001b[49m\u001b[43m,\u001b[49m\u001b[43m \u001b[49m\u001b[43mrewards\u001b[49m\u001b[43m,\u001b[49m\u001b[43m \u001b[49m\u001b[43mstate_to_location\u001b[49m\u001b[43m)\u001b[49m\n\u001b[0;32m      2\u001b[0m qagent\u001b[38;5;241m.\u001b[39mtraining(\u001b[38;5;124m'\u001b[39m\u001b[38;5;124mL9\u001b[39m\u001b[38;5;124m'\u001b[39m,\u001b[38;5;124m'\u001b[39m\u001b[38;5;124mL1\u001b[39m\u001b[38;5;124m'\u001b[39m,\u001b[38;5;241m1000\u001b[39m)\n",
      "\u001b[1;31mTypeError\u001b[0m: __init__() missing 1 required positional argument: 'Q'"
     ]
    }
   ],
   "source": [
    "qagent = QAgent(alpha, gamma, location_to_state, actions, rewards, state_to_location)\n",
    "qagent.training('L9','L1',1000) #1000 iterations"
   ]
  },
  {
   "cell_type": "code",
   "execution_count": null,
   "id": "7d4def89",
   "metadata": {},
   "outputs": [],
   "source": []
  }
 ],
 "metadata": {
  "kernelspec": {
   "display_name": "Python 3 (ipykernel)",
   "language": "python",
   "name": "python3"
  },
  "language_info": {
   "codemirror_mode": {
    "name": "ipython",
    "version": 3
   },
   "file_extension": ".py",
   "mimetype": "text/x-python",
   "name": "python",
   "nbconvert_exporter": "python",
   "pygments_lexer": "ipython3",
   "version": "3.9.12"
  }
 },
 "nbformat": 4,
 "nbformat_minor": 5
}
