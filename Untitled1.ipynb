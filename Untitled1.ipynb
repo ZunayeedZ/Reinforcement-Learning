{
 "cells": [
  {
   "cell_type": "code",
   "execution_count": 6,
   "id": "ca88ae72",
   "metadata": {},
   "outputs": [
    {
     "name": "stdout",
     "output_type": "stream",
     "text": [
      "[[8 5 2 2]\n",
      " [8 2 3 4]\n",
      " [8 3 2 6]\n",
      " [6 1 4 3]]\n"
     ]
    }
   ],
   "source": [
    "import numpy as np\n",
    "state_space = np.array([0,1,2,3])\n",
    "action_space = np.array([0,1,2,3])\n",
    "q_table = np.random.randint(low = 1, high = 10, size = (len(state_space), len(action_space)))\n",
    "print(q_table)"
   ]
  },
  {
   "cell_type": "code",
   "execution_count": 8,
   "id": "ca9b06a2",
   "metadata": {},
   "outputs": [
    {
     "name": "stdout",
     "output_type": "stream",
     "text": [
      "3\n"
     ]
    }
   ],
   "source": [
    "print(q_table[2,1])"
   ]
  }
 ],
 "metadata": {
  "kernelspec": {
   "display_name": "Python 3 (ipykernel)",
   "language": "python",
   "name": "python3"
  },
  "language_info": {
   "codemirror_mode": {
    "name": "ipython",
    "version": 3
   },
   "file_extension": ".py",
   "mimetype": "text/x-python",
   "name": "python",
   "nbconvert_exporter": "python",
   "pygments_lexer": "ipython3",
   "version": "3.9.12"
  }
 },
 "nbformat": 4,
 "nbformat_minor": 5
}
